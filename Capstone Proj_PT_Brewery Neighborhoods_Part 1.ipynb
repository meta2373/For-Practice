{
 "cells": [
  {
   "cell_type": "markdown",
   "metadata": {},
   "source": [
    "# Brewery Neighborhoods"
   ]
  },
  {
   "cell_type": "markdown",
   "metadata": {},
   "source": [
    "## 1. Introduction"
   ]
  },
  {
   "cell_type": "markdown",
   "metadata": {},
   "source": [
    "##### The current project is to help me plan a vacation with my friends. As a group of beer enthusiasts, we plan to do a beer tour over a 15-day vacation within the US. The choice has to be made between neighborhoods of San Francisco, CA on the west coast or Boston, MA on the east coast. The primary interst of the vacation is the beer tour among a variety of breweries in the neighborhood locations, while secondary interests can also be included to help make a better choice or decision. In this example, I have listed museums as my secondary choice of points of interest in the neighborhood.\n",
    "\n",
    "##### Since the vacation time is 15-day with an aim to visit decent number of breweries and spend good time, along with some attention to other points of interest(museums), it is important to plan the itinerary appropriately. For this, we will divide each location/neighborhhod into 3 clusters and list out the number of breweries and other details in respective cluster neighborhoods. Then we look for museums around the centroids of each of clusters. Dataframes will be created to guide us in evaluating these parameters and accordingly plan the trip to vist one or more cluster regions in the selected neighborhood - SFO or Boston!\n",
    "\n",
    "##### This approach can be adapted for any vacation planning and change the parameters of interets and generate maps, tables summarzing the available options ehich can help design itineraries!!"
   ]
  },
  {
   "cell_type": "markdown",
   "metadata": {},
   "source": [
    "## 2. Data"
   ]
  },
  {
   "cell_type": "markdown",
   "metadata": {},
   "source": [
    "##### WE mainly need the location data and query data from FourSquare. We list out breweries in hte neighborhood areas (radius = 1000 km) of SFO and BOS (Boston). K-Means clustering will be used to create 3 Clusters from each neighborhood (nearby brewweries fall within each cluster). The number of breweries within each cluster and the correspondign centroids are presented in a dataframe. Based on latitute and longitude of of the centroid, neary museums are identified and the top 5 are added onto the dataframe.\n",
    "\n",
    "##### In this way, a dataframe with information on brewery clusters in SFO and BOS locations, along with available museum options in respective clusters, will be presented as summary. \n"
   ]
  },
  {
   "cell_type": "code",
   "execution_count": null,
   "metadata": {},
   "outputs": [],
   "source": []
  }
 ],
 "metadata": {
  "kernelspec": {
   "display_name": "Python 3",
   "language": "python",
   "name": "python3"
  },
  "language_info": {
   "codemirror_mode": {
    "name": "ipython",
    "version": 3
   },
   "file_extension": ".py",
   "mimetype": "text/x-python",
   "name": "python",
   "nbconvert_exporter": "python",
   "pygments_lexer": "ipython3",
   "version": "3.7.6"
  }
 },
 "nbformat": 4,
 "nbformat_minor": 4
}
