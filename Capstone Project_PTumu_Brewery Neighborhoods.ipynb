{
 "cells": [
  {
   "cell_type": "markdown",
   "metadata": {},
   "source": [
    "# Capstone Project_PT"
   ]
  },
  {
   "cell_type": "markdown",
   "metadata": {},
   "source": [
    "## Brewery Neighborhoods"
   ]
  },
  {
   "cell_type": "markdown",
   "metadata": {},
   "source": [
    "### The aim of this exercise is to plan a 10-day vacation to do beer tour either on the west coast or east coast of the US. For the west coast, San Francisco, CA was chosen as the centre and Boston, MA for the east coast. Within a radius of 1000km from the center, clusters of breweries based on location are analyzed so that a vacation can be planned. Apart from the number  of breweries in each cluster other interest to explore in the negihborhood is the museums.\n",
    "### The approach, therfore, is to look at clusters of breweries and museums in the respective neighborhoods from each region (SFO and Boston). The output would be to generate 3 clusters of breweries from each region, and the museums around corresponding centroids. This summary would be helpful to identify what location(s) would be the best for vacation."
   ]
  },
  {
   "cell_type": "markdown",
   "metadata": {},
   "source": [
    "##### 1. Import necessary libraries and packages"
   ]
  },
  {
   "cell_type": "code",
   "execution_count": 1,
   "metadata": {},
   "outputs": [
    {
     "name": "stdout",
     "output_type": "stream",
     "text": [
      "Requirement already satisfied: geopy in c:\\users\\priya\\anaconda3\\lib\\site-packages (1.22.0)\n",
      "Requirement already satisfied: geographiclib<2,>=1.49 in c:\\users\\priya\\anaconda3\\lib\\site-packages (from geopy) (1.50)\n"
     ]
    }
   ],
   "source": [
    "import numpy as np\n",
    "import pandas as pd\n",
    "!pip install geopy"
   ]
  },
  {
   "cell_type": "code",
   "execution_count": 4,
   "metadata": {},
   "outputs": [
    {
     "name": "stdout",
     "output_type": "stream",
     "text": [
      "Libraries imported.\n"
     ]
    }
   ],
   "source": [
    "import json \n",
    "\n",
    "from geopy.geocoders import Nominatim \n",
    "\n",
    "import urllib\n",
    "import requests \n",
    "from pandas.io.json import json_normalize\n",
    "\n",
    "import matplotlib.cm as cm\n",
    "import matplotlib.colors as colors\n",
    "\n",
    "from sklearn.cluster import KMeans\n",
    "\n",
    "\n",
    "print('Libraries imported.')"
   ]
  },
  {
   "cell_type": "markdown",
   "metadata": {},
   "source": [
    "<a id='item1'></a>"
   ]
  },
  {
   "cell_type": "markdown",
   "metadata": {},
   "source": [
    "##### 2. Credentials for Foursquare"
   ]
  },
  {
   "cell_type": "code",
   "execution_count": 5,
   "metadata": {
    "jupyter": {
     "outputs_hidden": false
    }
   },
   "outputs": [
    {
     "name": "stdout",
     "output_type": "stream",
     "text": [
      "Your credentails:\n",
      "CLIENT_ID: YMX5TBXNFF0OEYWZ1ASKBOZTGOAMBZYB4Y34NZBWB30GZA34\n",
      "CLIENT_SECRET:EJDSGO1E1OSRZN3Y4ITYZRIP4A1TTC4DNONDGHF4RCFMQ2H4\n"
     ]
    }
   ],
   "source": [
    "CLIENT_ID = 'YMX5TBXNFF0OEYWZ1ASKBOZTGOAMBZYB4Y34NZBWB30GZA34' # your Foursquare ID\n",
    "CLIENT_SECRET = 'EJDSGO1E1OSRZN3Y4ITYZRIP4A1TTC4DNONDGHF4RCFMQ2H4' # your Foursquare Secret\n",
    "VERSION = '20200603'\n",
    "print('Your credentails:')\n",
    "print('CLIENT_ID: ' + CLIENT_ID)\n",
    "print('CLIENT_SECRET:' + CLIENT_SECRET)"
   ]
  },
  {
   "cell_type": "markdown",
   "metadata": {},
   "source": [
    "##### 3. Locations of San Francisco, CA (SFO) and Boston, MA(BOS) from FourSquare"
   ]
  },
  {
   "cell_type": "code",
   "execution_count": 6,
   "metadata": {
    "scrolled": true
   },
   "outputs": [
    {
     "name": "stdout",
     "output_type": "stream",
     "text": [
      "SFO address: 37.7790262 -122.4199061\n",
      "BOS address: 42.3602534 -71.0582912\n"
     ]
    }
   ],
   "source": [
    "addressSFO = ['San Francisco, CA, USA']\n",
    "addressBOS = ['Boston, MA, USA']\n",
    "\n",
    "geolocator = Nominatim(user_agent=\"foursquare_agent\")\n",
    "location1 = geolocator.geocode(addressSFO)\n",
    "location2 = geolocator.geocode(addressBOS)\n",
    "latitude1 = location1.latitude\n",
    "longitude1 = location1.longitude\n",
    "latitude2 = location2.latitude\n",
    "longitude2 = location2.longitude\n",
    "print('SFO address:', latitude1, longitude1)\n",
    "print('BOS address:', latitude2, longitude2)"
   ]
  },
  {
   "cell_type": "markdown",
   "metadata": {},
   "source": [
    "##### 3.1. Search radius around the locations is 1000 km "
   ]
  },
  {
   "cell_type": "code",
   "execution_count": 7,
   "metadata": {},
   "outputs": [],
   "source": [
    "search_query1 = 'Brewery'\n",
    "radius1 = 1000000\n",
    "LIMIT = 1000"
   ]
  },
  {
   "cell_type": "code",
   "execution_count": 8,
   "metadata": {},
   "outputs": [],
   "source": [
    "urlSFO_b = 'https://api.foursquare.com/v2/venues/search?client_id={}&client_secret={}&ll={},{}&v={}&query={}&radius={}&limit={}'.format(CLIENT_ID, CLIENT_SECRET, latitude1, longitude1, VERSION, search_query1, radius1, LIMIT)\n",
    "urlBOS_b = 'https://api.foursquare.com/v2/venues/search?client_id={}&client_secret={}&ll={},{}&v={}&query={}&radius={}&limit={}'.format(CLIENT_ID, CLIENT_SECRET, latitude2, longitude2, VERSION, search_query1, radius1, LIMIT)\n"
   ]
  },
  {
   "cell_type": "code",
   "execution_count": 9,
   "metadata": {},
   "outputs": [],
   "source": [
    "beerSFO = requests.get(urlSFO_b).json()\n",
    "beerBOS = requests.get(urlBOS_b).json()"
   ]
  },
  {
   "cell_type": "markdown",
   "metadata": {},
   "source": [
    "##### 4. In the following cells, the data from the json files is sorted and carried to dataframes for both SFO and BOS locations"
   ]
  },
  {
   "cell_type": "code",
   "execution_count": 11,
   "metadata": {
    "jupyter": {
     "outputs_hidden": false
    },
    "scrolled": true
   },
   "outputs": [],
   "source": [
    "SFObeerlist = beerSFO['response']['venues']\n",
    "BOSbeerlist = beerBOS['response']['venues']"
   ]
  },
  {
   "cell_type": "markdown",
   "metadata": {},
   "source": [
    "##### 4.1. Create dataframe by selecting specific columns to list of first 10 breweries in the SFO location "
   ]
  },
  {
   "cell_type": "code",
   "execution_count": 14,
   "metadata": {},
   "outputs": [
    {
     "data": {
      "text/html": [
       "<div>\n",
       "<style scoped>\n",
       "    .dataframe tbody tr th:only-of-type {\n",
       "        vertical-align: middle;\n",
       "    }\n",
       "\n",
       "    .dataframe tbody tr th {\n",
       "        vertical-align: top;\n",
       "    }\n",
       "\n",
       "    .dataframe thead th {\n",
       "        text-align: right;\n",
       "    }\n",
       "</style>\n",
       "<table border=\"1\" class=\"dataframe\">\n",
       "  <thead>\n",
       "    <tr style=\"text-align: right;\">\n",
       "      <th></th>\n",
       "      <th>id</th>\n",
       "      <th>name</th>\n",
       "      <th>location.lat</th>\n",
       "      <th>location.lng</th>\n",
       "      <th>location.distance</th>\n",
       "    </tr>\n",
       "  </thead>\n",
       "  <tbody>\n",
       "    <tr>\n",
       "      <th>0</th>\n",
       "      <td>3fd66200f964a52066ed1ee3</td>\n",
       "      <td>Magnolia Gastropub &amp; Brewery</td>\n",
       "      <td>37.770251</td>\n",
       "      <td>-122.445340</td>\n",
       "      <td>2441</td>\n",
       "    </tr>\n",
       "    <tr>\n",
       "      <th>1</th>\n",
       "      <td>4ba99069f964a520b22e3ae3</td>\n",
       "      <td>Clara St. Brewery</td>\n",
       "      <td>37.779432</td>\n",
       "      <td>-122.402329</td>\n",
       "      <td>1547</td>\n",
       "    </tr>\n",
       "    <tr>\n",
       "      <th>2</th>\n",
       "      <td>42af6f80f964a5205e251fe3</td>\n",
       "      <td>21st Amendment Brewery &amp; Restaurant</td>\n",
       "      <td>37.782346</td>\n",
       "      <td>-122.392588</td>\n",
       "      <td>2431</td>\n",
       "    </tr>\n",
       "    <tr>\n",
       "      <th>3</th>\n",
       "      <td>57ad18db498ef869391fa0d8</td>\n",
       "      <td>Jackson Brewery Complex</td>\n",
       "      <td>37.771800</td>\n",
       "      <td>-122.413702</td>\n",
       "      <td>972</td>\n",
       "    </tr>\n",
       "    <tr>\n",
       "      <th>4</th>\n",
       "      <td>5865de10076be150f6193141</td>\n",
       "      <td>K-OZ Restaurant &amp; Brewery</td>\n",
       "      <td>37.778557</td>\n",
       "      <td>-122.410020</td>\n",
       "      <td>871</td>\n",
       "    </tr>\n",
       "    <tr>\n",
       "      <th>5</th>\n",
       "      <td>5de50f3812fc7700087654b2</td>\n",
       "      <td>HOLYCRAFT BREWERY</td>\n",
       "      <td>37.787539</td>\n",
       "      <td>-122.434924</td>\n",
       "      <td>1625</td>\n",
       "    </tr>\n",
       "    <tr>\n",
       "      <th>6</th>\n",
       "      <td>43cc06a3f964a520c72d1fe3</td>\n",
       "      <td>Beach Chalet Brewery &amp; Restaurant</td>\n",
       "      <td>37.769345</td>\n",
       "      <td>-122.510773</td>\n",
       "      <td>8067</td>\n",
       "    </tr>\n",
       "    <tr>\n",
       "      <th>7</th>\n",
       "      <td>5c26e59a75dcb7003520746b</td>\n",
       "      <td>Holy Craft Brewery</td>\n",
       "      <td>37.797412</td>\n",
       "      <td>-122.410091</td>\n",
       "      <td>2221</td>\n",
       "    </tr>\n",
       "    <tr>\n",
       "      <th>8</th>\n",
       "      <td>52ede361498e9f88569d05f6</td>\n",
       "      <td>Triple Voodoo Brewery &amp; Tap Room</td>\n",
       "      <td>37.761181</td>\n",
       "      <td>-122.388543</td>\n",
       "      <td>3400</td>\n",
       "    </tr>\n",
       "    <tr>\n",
       "      <th>9</th>\n",
       "      <td>553af3c7498e754de35a87a4</td>\n",
       "      <td>Oda Restaurant &amp; Brewery</td>\n",
       "      <td>37.768854</td>\n",
       "      <td>-122.395443</td>\n",
       "      <td>2432</td>\n",
       "    </tr>\n",
       "  </tbody>\n",
       "</table>\n",
       "</div>"
      ],
      "text/plain": [
       "                         id                                 name  \\\n",
       "0  3fd66200f964a52066ed1ee3         Magnolia Gastropub & Brewery   \n",
       "1  4ba99069f964a520b22e3ae3                    Clara St. Brewery   \n",
       "2  42af6f80f964a5205e251fe3  21st Amendment Brewery & Restaurant   \n",
       "3  57ad18db498ef869391fa0d8              Jackson Brewery Complex   \n",
       "4  5865de10076be150f6193141            K-OZ Restaurant & Brewery   \n",
       "5  5de50f3812fc7700087654b2                    HOLYCRAFT BREWERY   \n",
       "6  43cc06a3f964a520c72d1fe3    Beach Chalet Brewery & Restaurant   \n",
       "7  5c26e59a75dcb7003520746b                   Holy Craft Brewery   \n",
       "8  52ede361498e9f88569d05f6     Triple Voodoo Brewery & Tap Room   \n",
       "9  553af3c7498e754de35a87a4             Oda Restaurant & Brewery   \n",
       "\n",
       "   location.lat  location.lng  location.distance  \n",
       "0     37.770251   -122.445340               2441  \n",
       "1     37.779432   -122.402329               1547  \n",
       "2     37.782346   -122.392588               2431  \n",
       "3     37.771800   -122.413702                972  \n",
       "4     37.778557   -122.410020                871  \n",
       "5     37.787539   -122.434924               1625  \n",
       "6     37.769345   -122.510773               8067  \n",
       "7     37.797412   -122.410091               2221  \n",
       "8     37.761181   -122.388543               3400  \n",
       "9     37.768854   -122.395443               2432  "
      ]
     },
     "execution_count": 14,
     "metadata": {},
     "output_type": "execute_result"
    }
   ],
   "source": [
    "SFObeer_df = pd.json_normalize(SFObeerlist)\n",
    "SFOb_df = SFObeer_df[['id','name','location.lat','location.lng','location.distance']]\n",
    "SFOb_df.head(10)\n"
   ]
  },
  {
   "cell_type": "markdown",
   "metadata": {},
   "source": [
    "##### 4.2. Create dataframe by selecting specific columns to list of first 10 breweries in the BOS location "
   ]
  },
  {
   "cell_type": "code",
   "execution_count": 32,
   "metadata": {
    "jupyter": {
     "outputs_hidden": false
    }
   },
   "outputs": [
    {
     "data": {
      "text/html": [
       "<div>\n",
       "<style scoped>\n",
       "    .dataframe tbody tr th:only-of-type {\n",
       "        vertical-align: middle;\n",
       "    }\n",
       "\n",
       "    .dataframe tbody tr th {\n",
       "        vertical-align: top;\n",
       "    }\n",
       "\n",
       "    .dataframe thead th {\n",
       "        text-align: right;\n",
       "    }\n",
       "</style>\n",
       "<table border=\"1\" class=\"dataframe\">\n",
       "  <thead>\n",
       "    <tr style=\"text-align: right;\">\n",
       "      <th></th>\n",
       "      <th>id</th>\n",
       "      <th>name</th>\n",
       "      <th>location.lat</th>\n",
       "      <th>location.lng</th>\n",
       "      <th>location.distance</th>\n",
       "    </tr>\n",
       "  </thead>\n",
       "  <tbody>\n",
       "    <tr>\n",
       "      <th>0</th>\n",
       "      <td>40b28c80f964a52073f81ee3</td>\n",
       "      <td>Harpoon Brewery</td>\n",
       "      <td>42.347090</td>\n",
       "      <td>-71.034874</td>\n",
       "      <td>2420</td>\n",
       "    </tr>\n",
       "    <tr>\n",
       "      <th>1</th>\n",
       "      <td>5a2b0f1282a7506f50f0a8a1</td>\n",
       "      <td>Hopster's Brewery</td>\n",
       "      <td>42.352898</td>\n",
       "      <td>-71.049133</td>\n",
       "      <td>1112</td>\n",
       "    </tr>\n",
       "    <tr>\n",
       "      <th>2</th>\n",
       "      <td>4cc06582985aa35d389d4c12</td>\n",
       "      <td>The Brewery Complex</td>\n",
       "      <td>42.314582</td>\n",
       "      <td>-71.104215</td>\n",
       "      <td>6334</td>\n",
       "    </tr>\n",
       "    <tr>\n",
       "      <th>3</th>\n",
       "      <td>5068ee94e4b0913fe322d4da</td>\n",
       "      <td>The Brewery</td>\n",
       "      <td>42.339424</td>\n",
       "      <td>-71.082846</td>\n",
       "      <td>3075</td>\n",
       "    </tr>\n",
       "    <tr>\n",
       "      <th>4</th>\n",
       "      <td>58aca9592bc5e252bca07d9b</td>\n",
       "      <td>Harpoon Brewery Tour</td>\n",
       "      <td>42.347030</td>\n",
       "      <td>-71.034273</td>\n",
       "      <td>2463</td>\n",
       "    </tr>\n",
       "    <tr>\n",
       "      <th>5</th>\n",
       "      <td>4a7daee1f964a5202aef1fe3</td>\n",
       "      <td>Samuel Adams Brewery</td>\n",
       "      <td>42.314523</td>\n",
       "      <td>-71.103155</td>\n",
       "      <td>6288</td>\n",
       "    </tr>\n",
       "    <tr>\n",
       "      <th>6</th>\n",
       "      <td>5616cfee498ed6c1f2ab1652</td>\n",
       "      <td>Somerville Brewing (aka Slumbrew) Brewery + Ta...</td>\n",
       "      <td>42.374792</td>\n",
       "      <td>-71.089152</td>\n",
       "      <td>3010</td>\n",
       "    </tr>\n",
       "    <tr>\n",
       "      <th>7</th>\n",
       "      <td>4f98b29ce4b07e7604a7eb1e</td>\n",
       "      <td>Belmont Brewery</td>\n",
       "      <td>42.381292</td>\n",
       "      <td>-71.065143</td>\n",
       "      <td>2408</td>\n",
       "    </tr>\n",
       "    <tr>\n",
       "      <th>8</th>\n",
       "      <td>578a7235498efd4e93469f08</td>\n",
       "      <td>Notch Brewery &amp; Tap Room</td>\n",
       "      <td>42.519631</td>\n",
       "      <td>-70.890708</td>\n",
       "      <td>22456</td>\n",
       "    </tr>\n",
       "    <tr>\n",
       "      <th>9</th>\n",
       "      <td>4eda6a27f790c04545b983c0</td>\n",
       "      <td>Mystic Brewery</td>\n",
       "      <td>42.391773</td>\n",
       "      <td>-71.044264</td>\n",
       "      <td>3693</td>\n",
       "    </tr>\n",
       "  </tbody>\n",
       "</table>\n",
       "</div>"
      ],
      "text/plain": [
       "                         id  \\\n",
       "0  40b28c80f964a52073f81ee3   \n",
       "1  5a2b0f1282a7506f50f0a8a1   \n",
       "2  4cc06582985aa35d389d4c12   \n",
       "3  5068ee94e4b0913fe322d4da   \n",
       "4  58aca9592bc5e252bca07d9b   \n",
       "5  4a7daee1f964a5202aef1fe3   \n",
       "6  5616cfee498ed6c1f2ab1652   \n",
       "7  4f98b29ce4b07e7604a7eb1e   \n",
       "8  578a7235498efd4e93469f08   \n",
       "9  4eda6a27f790c04545b983c0   \n",
       "\n",
       "                                                name  location.lat  \\\n",
       "0                                    Harpoon Brewery     42.347090   \n",
       "1                                  Hopster's Brewery     42.352898   \n",
       "2                                The Brewery Complex     42.314582   \n",
       "3                                        The Brewery     42.339424   \n",
       "4                               Harpoon Brewery Tour     42.347030   \n",
       "5                               Samuel Adams Brewery     42.314523   \n",
       "6  Somerville Brewing (aka Slumbrew) Brewery + Ta...     42.374792   \n",
       "7                                    Belmont Brewery     42.381292   \n",
       "8                           Notch Brewery & Tap Room     42.519631   \n",
       "9                                     Mystic Brewery     42.391773   \n",
       "\n",
       "   location.lng  location.distance  \n",
       "0    -71.034874               2420  \n",
       "1    -71.049133               1112  \n",
       "2    -71.104215               6334  \n",
       "3    -71.082846               3075  \n",
       "4    -71.034273               2463  \n",
       "5    -71.103155               6288  \n",
       "6    -71.089152               3010  \n",
       "7    -71.065143               2408  \n",
       "8    -70.890708              22456  \n",
       "9    -71.044264               3693  "
      ]
     },
     "execution_count": 32,
     "metadata": {},
     "output_type": "execute_result"
    }
   ],
   "source": [
    "BOSbeer_df = pd.json_normalize(BOSbeerlist)\n",
    "BOSb_df = BOSbeer_df[['id','name','location.lat','location.lng','location.distance']]\n",
    "BOSb_df.head(10)"
   ]
  },
  {
   "cell_type": "code",
   "execution_count": 17,
   "metadata": {},
   "outputs": [
    {
     "name": "stderr",
     "output_type": "stream",
     "text": [
      "C:\\Users\\priya\\anaconda3\\lib\\site-packages\\sklearn\\utils\\deprecation.py:144: FutureWarning: The sklearn.datasets.samples_generator module is  deprecated in version 0.22 and will be removed in version 0.24. The corresponding classes / functions should instead be imported from sklearn.datasets. Anything that cannot be imported from sklearn.datasets is now part of the private API.\n",
      "  warnings.warn(message, FutureWarning)\n"
     ]
    }
   ],
   "source": [
    "\n",
    "import matplotlib.pyplot as plt \n",
    " \n",
    "from sklearn.datasets.samples_generator import make_blobs \n",
    "%matplotlib inline"
   ]
  },
  {
   "cell_type": "markdown",
   "metadata": {},
   "source": [
    "#### 5. K-Means clustering is used to partition the list of breweries into 3 clusters. The breweries in each cluster are neary by. The centroids for each cluster and the number of breweries in each cluster are carried to dataframes."
   ]
  },
  {
   "cell_type": "markdown",
   "metadata": {},
   "source": [
    "##### 5.1. Cluster and centroids for SFO location"
   ]
  },
  {
   "cell_type": "code",
   "execution_count": 18,
   "metadata": {
    "scrolled": true
   },
   "outputs": [
    {
     "name": "stdout",
     "output_type": "stream",
     "text": [
      "[[  37.62476163 -122.07422002]\n",
      " [  37.7395148  -122.40033477]\n",
      " [  38.13978764 -122.41772163]]\n"
     ]
    },
    {
     "data": {
      "image/png": "[encoded data removed]",
      "text/plain": [
       "<Figure size 432x288 with 1 Axes>"
      ]
     },
     "metadata": {
      "needs_background": "light"
     },
     "output_type": "display_data"
    }
   ],
   "source": [
    "SFOb_cluster = SFOb_df[['location.lat','location.lng']]\n",
    "\n",
    "kmeans_SFOb = KMeans(n_clusters=3).fit(SFOb_cluster)\n",
    "centroids_SFOb = kmeans_SFOb.cluster_centers_\n",
    "print(centroids_SFOb)\n",
    "\n",
    "plt.scatter(SFOb_cluster['location.lat'],SFOb_cluster['location.lng'], c= kmeans_SFOb.labels_.astype(float), s=100, alpha=0.75)\n",
    "plt.scatter(centroids_SFOb[:, 0], centroids_SFOb[:, 1], c='red', s=100)\n",
    "plt.show()\n"
   ]
  },
  {
   "cell_type": "code",
   "execution_count": 19,
   "metadata": {
    "scrolled": true
   },
   "outputs": [
    {
     "data": {
      "text/html": [
       "<div>\n",
       "<style scoped>\n",
       "    .dataframe tbody tr th:only-of-type {\n",
       "        vertical-align: middle;\n",
       "    }\n",
       "\n",
       "    .dataframe tbody tr th {\n",
       "        vertical-align: top;\n",
       "    }\n",
       "\n",
       "    .dataframe thead th {\n",
       "        text-align: right;\n",
       "    }\n",
       "</style>\n",
       "<table border=\"1\" class=\"dataframe\">\n",
       "  <thead>\n",
       "    <tr style=\"text-align: right;\">\n",
       "      <th></th>\n",
       "      <th>latitude</th>\n",
       "      <th>longitude</th>\n",
       "    </tr>\n",
       "  </thead>\n",
       "  <tbody>\n",
       "    <tr>\n",
       "      <th>0</th>\n",
       "      <td>37.624762</td>\n",
       "      <td>-122.074220</td>\n",
       "    </tr>\n",
       "    <tr>\n",
       "      <th>1</th>\n",
       "      <td>37.739515</td>\n",
       "      <td>-122.400335</td>\n",
       "    </tr>\n",
       "    <tr>\n",
       "      <th>2</th>\n",
       "      <td>38.139788</td>\n",
       "      <td>-122.417722</td>\n",
       "    </tr>\n",
       "  </tbody>\n",
       "</table>\n",
       "</div>"
      ],
      "text/plain": [
       "    latitude   longitude\n",
       "0  37.624762 -122.074220\n",
       "1  37.739515 -122.400335\n",
       "2  38.139788 -122.417722"
      ]
     },
     "execution_count": 19,
     "metadata": {},
     "output_type": "execute_result"
    }
   ],
   "source": [
    "df_SFOb_centroids = pd.DataFrame(centroids_SFOb)\n",
    "df_SFOb_centroids.columns = ['latitude','longitude']\n",
    "df_SFOb_centroids\n"
   ]
  },
  {
   "cell_type": "markdown",
   "metadata": {},
   "source": [
    "*Determine number of breweries in each cluster and location (latitude and longitude) of corresponding centroids and put them in a dataframe*"
   ]
  },
  {
   "cell_type": "code",
   "execution_count": 21,
   "metadata": {
    "scrolled": true
   },
   "outputs": [
    {
     "name": "stdout",
     "output_type": "stream",
     "text": [
      "[[ 0  1  2]\n",
      " [14 23 13]]\n"
     ]
    },
    {
     "data": {
      "text/html": [
       "<div>\n",
       "<style scoped>\n",
       "    .dataframe tbody tr th:only-of-type {\n",
       "        vertical-align: middle;\n",
       "    }\n",
       "\n",
       "    .dataframe tbody tr th {\n",
       "        vertical-align: top;\n",
       "    }\n",
       "\n",
       "    .dataframe thead th {\n",
       "        text-align: right;\n",
       "    }\n",
       "</style>\n",
       "<table border=\"1\" class=\"dataframe\">\n",
       "  <thead>\n",
       "    <tr style=\"text-align: right;\">\n",
       "      <th></th>\n",
       "      <th>centroid#</th>\n",
       "      <th>no. of breweries</th>\n",
       "    </tr>\n",
       "  </thead>\n",
       "  <tbody>\n",
       "    <tr>\n",
       "      <th>0</th>\n",
       "      <td>0</td>\n",
       "      <td>14</td>\n",
       "    </tr>\n",
       "    <tr>\n",
       "      <th>1</th>\n",
       "      <td>1</td>\n",
       "      <td>23</td>\n",
       "    </tr>\n",
       "    <tr>\n",
       "      <th>2</th>\n",
       "      <td>2</td>\n",
       "      <td>13</td>\n",
       "    </tr>\n",
       "  </tbody>\n",
       "</table>\n",
       "</div>"
      ],
      "text/plain": [
       "   centroid#  no. of breweries\n",
       "0          0                14\n",
       "1          1                23\n",
       "2          2                13"
      ]
     },
     "execution_count": 21,
     "metadata": {},
     "output_type": "execute_result"
    }
   ],
   "source": [
    "kclusters_SFOb = kmeans_SFOb.labels_\n",
    "clustercounts_SFOb = np.asarray(np.unique(kclusters_SFOb, return_counts=True))\n",
    "print (clustercounts_SFOb)\n",
    "df_SFOb_cluster = pd.DataFrame(clustercounts_SFOb).transpose()\n",
    "df_SFOb_cluster.columns = ['centroid#','no. of breweries']\n",
    "df_SFOb_cluster"
   ]
  },
  {
   "cell_type": "code",
   "execution_count": 22,
   "metadata": {},
   "outputs": [
    {
     "data": {
      "text/html": [
       "<div>\n",
       "<style scoped>\n",
       "    .dataframe tbody tr th:only-of-type {\n",
       "        vertical-align: middle;\n",
       "    }\n",
       "\n",
       "    .dataframe tbody tr th {\n",
       "        vertical-align: top;\n",
       "    }\n",
       "\n",
       "    .dataframe thead th {\n",
       "        text-align: right;\n",
       "    }\n",
       "</style>\n",
       "<table border=\"1\" class=\"dataframe\">\n",
       "  <thead>\n",
       "    <tr style=\"text-align: right;\">\n",
       "      <th></th>\n",
       "      <th>centroid#</th>\n",
       "      <th>no. of breweries</th>\n",
       "      <th>latitude</th>\n",
       "      <th>longitude</th>\n",
       "    </tr>\n",
       "  </thead>\n",
       "  <tbody>\n",
       "    <tr>\n",
       "      <th>0</th>\n",
       "      <td>0</td>\n",
       "      <td>14</td>\n",
       "      <td>37.624762</td>\n",
       "      <td>-122.074220</td>\n",
       "    </tr>\n",
       "    <tr>\n",
       "      <th>1</th>\n",
       "      <td>1</td>\n",
       "      <td>23</td>\n",
       "      <td>37.739515</td>\n",
       "      <td>-122.400335</td>\n",
       "    </tr>\n",
       "    <tr>\n",
       "      <th>2</th>\n",
       "      <td>2</td>\n",
       "      <td>13</td>\n",
       "      <td>38.139788</td>\n",
       "      <td>-122.417722</td>\n",
       "    </tr>\n",
       "  </tbody>\n",
       "</table>\n",
       "</div>"
      ],
      "text/plain": [
       "   centroid#  no. of breweries   latitude   longitude\n",
       "0          0                14  37.624762 -122.074220\n",
       "1          1                23  37.739515 -122.400335\n",
       "2          2                13  38.139788 -122.417722"
      ]
     },
     "execution_count": 22,
     "metadata": {},
     "output_type": "execute_result"
    }
   ],
   "source": [
    "df_SFOb_cluster1 = pd.merge(df_SFOb_cluster, df_SFOb_centroids, left_index=True, right_index=True)\n",
    "df_SFOb_cluster1"
   ]
  },
  {
   "cell_type": "markdown",
   "metadata": {},
   "source": [
    "#### 5.2. Repeating the similar process for BOS location"
   ]
  },
  {
   "cell_type": "code",
   "execution_count": 23,
   "metadata": {},
   "outputs": [
    {
     "name": "stdout",
     "output_type": "stream",
     "text": [
      "[[ 42.33233389 -71.08718037]\n",
      " [ 42.51909431 -70.92816864]\n",
      " [ 42.38270963 -71.26865674]]\n"
     ]
    },
    {
     "data": {
      "image/png": "[encoded data removed]",
      "text/plain": [
       "<Figure size 432x288 with 1 Axes>"
      ]
     },
     "metadata": {
      "needs_background": "light"
     },
     "output_type": "display_data"
    }
   ],
   "source": [
    "BOSb_cluster = BOSb_df[['location.lat','location.lng']]\n",
    "\n",
    "kmeans_BOSb = KMeans(n_clusters=3).fit(BOSb_cluster)\n",
    "centroids_BOSb = kmeans_BOSb.cluster_centers_\n",
    "print(centroids_BOSb)\n",
    "\n",
    "plt.scatter(BOSb_cluster['location.lat'],BOSb_cluster['location.lng'], c= kmeans_BOSb.labels_.astype(float), s=100, alpha=0.75)\n",
    "plt.scatter(centroids_BOSb[:, 0], centroids_BOSb[:, 1], c='red', s=100)\n",
    "plt.show()"
   ]
  },
  {
   "cell_type": "code",
   "execution_count": 24,
   "metadata": {
    "scrolled": true
   },
   "outputs": [
    {
     "data": {
      "text/html": [
       "<div>\n",
       "<style scoped>\n",
       "    .dataframe tbody tr th:only-of-type {\n",
       "        vertical-align: middle;\n",
       "    }\n",
       "\n",
       "    .dataframe tbody tr th {\n",
       "        vertical-align: top;\n",
       "    }\n",
       "\n",
       "    .dataframe thead th {\n",
       "        text-align: right;\n",
       "    }\n",
       "</style>\n",
       "<table border=\"1\" class=\"dataframe\">\n",
       "  <thead>\n",
       "    <tr style=\"text-align: right;\">\n",
       "      <th></th>\n",
       "      <th>latitude</th>\n",
       "      <th>longitude</th>\n",
       "    </tr>\n",
       "  </thead>\n",
       "  <tbody>\n",
       "    <tr>\n",
       "      <th>0</th>\n",
       "      <td>42.332334</td>\n",
       "      <td>-71.087180</td>\n",
       "    </tr>\n",
       "    <tr>\n",
       "      <th>1</th>\n",
       "      <td>42.519094</td>\n",
       "      <td>-70.928169</td>\n",
       "    </tr>\n",
       "    <tr>\n",
       "      <th>2</th>\n",
       "      <td>42.382710</td>\n",
       "      <td>-71.268657</td>\n",
       "    </tr>\n",
       "  </tbody>\n",
       "</table>\n",
       "</div>"
      ],
      "text/plain": [
       "    latitude  longitude\n",
       "0  42.332334 -71.087180\n",
       "1  42.519094 -70.928169\n",
       "2  42.382710 -71.268657"
      ]
     },
     "execution_count": 24,
     "metadata": {},
     "output_type": "execute_result"
    }
   ],
   "source": [
    "df_BOSb_centroids = pd.DataFrame(centroids_BOSb)\n",
    "df_BOSb_centroids.columns = ['latitude','longitude']\n",
    "df_BOSb_centroids"
   ]
  },
  {
   "cell_type": "code",
   "execution_count": 25,
   "metadata": {},
   "outputs": [
    {
     "name": "stdout",
     "output_type": "stream",
     "text": [
      "[[ 0  1  2]\n",
      " [34  6 10]]\n"
     ]
    },
    {
     "data": {
      "text/html": [
       "<div>\n",
       "<style scoped>\n",
       "    .dataframe tbody tr th:only-of-type {\n",
       "        vertical-align: middle;\n",
       "    }\n",
       "\n",
       "    .dataframe tbody tr th {\n",
       "        vertical-align: top;\n",
       "    }\n",
       "\n",
       "    .dataframe thead th {\n",
       "        text-align: right;\n",
       "    }\n",
       "</style>\n",
       "<table border=\"1\" class=\"dataframe\">\n",
       "  <thead>\n",
       "    <tr style=\"text-align: right;\">\n",
       "      <th></th>\n",
       "      <th>no. of breweries</th>\n",
       "    </tr>\n",
       "    <tr>\n",
       "      <th>cluster#</th>\n",
       "      <th></th>\n",
       "    </tr>\n",
       "  </thead>\n",
       "  <tbody>\n",
       "    <tr>\n",
       "      <th>0</th>\n",
       "      <td>34</td>\n",
       "    </tr>\n",
       "    <tr>\n",
       "      <th>1</th>\n",
       "      <td>6</td>\n",
       "    </tr>\n",
       "    <tr>\n",
       "      <th>2</th>\n",
       "      <td>10</td>\n",
       "    </tr>\n",
       "  </tbody>\n",
       "</table>\n",
       "</div>"
      ],
      "text/plain": [
       "          no. of breweries\n",
       "cluster#                  \n",
       "0                       34\n",
       "1                        6\n",
       "2                       10"
      ]
     },
     "execution_count": 25,
     "metadata": {},
     "output_type": "execute_result"
    }
   ],
   "source": [
    "kclusters_BOSb = kmeans_BOSb.labels_\n",
    "clustercounts_BOSb = np.asarray(np.unique(kclusters_BOSb, return_counts=True))\n",
    "print (clustercounts_BOSb)\n",
    "df_BOSb_cluster = pd.DataFrame(clustercounts_BOSb).transpose()\n",
    "df_BOSb_cluster.columns = ['cluster#','no. of breweries']\n",
    "df_BOSb_cluster.set_index('cluster#', inplace=True)\n",
    "df_BOSb_cluster"
   ]
  },
  {
   "cell_type": "code",
   "execution_count": 26,
   "metadata": {
    "scrolled": true
   },
   "outputs": [
    {
     "data": {
      "text/html": [
       "<div>\n",
       "<style scoped>\n",
       "    .dataframe tbody tr th:only-of-type {\n",
       "        vertical-align: middle;\n",
       "    }\n",
       "\n",
       "    .dataframe tbody tr th {\n",
       "        vertical-align: top;\n",
       "    }\n",
       "\n",
       "    .dataframe thead th {\n",
       "        text-align: right;\n",
       "    }\n",
       "</style>\n",
       "<table border=\"1\" class=\"dataframe\">\n",
       "  <thead>\n",
       "    <tr style=\"text-align: right;\">\n",
       "      <th></th>\n",
       "      <th>no. of breweries</th>\n",
       "      <th>latitude</th>\n",
       "      <th>longitude</th>\n",
       "    </tr>\n",
       "    <tr>\n",
       "      <th>cluster#</th>\n",
       "      <th></th>\n",
       "      <th></th>\n",
       "      <th></th>\n",
       "    </tr>\n",
       "  </thead>\n",
       "  <tbody>\n",
       "    <tr>\n",
       "      <th>0</th>\n",
       "      <td>34</td>\n",
       "      <td>42.332334</td>\n",
       "      <td>-71.087180</td>\n",
       "    </tr>\n",
       "    <tr>\n",
       "      <th>1</th>\n",
       "      <td>6</td>\n",
       "      <td>42.519094</td>\n",
       "      <td>-70.928169</td>\n",
       "    </tr>\n",
       "    <tr>\n",
       "      <th>2</th>\n",
       "      <td>10</td>\n",
       "      <td>42.382710</td>\n",
       "      <td>-71.268657</td>\n",
       "    </tr>\n",
       "  </tbody>\n",
       "</table>\n",
       "</div>"
      ],
      "text/plain": [
       "          no. of breweries   latitude  longitude\n",
       "cluster#                                        \n",
       "0                       34  42.332334 -71.087180\n",
       "1                        6  42.519094 -70.928169\n",
       "2                       10  42.382710 -71.268657"
      ]
     },
     "execution_count": 26,
     "metadata": {},
     "output_type": "execute_result"
    }
   ],
   "source": [
    "df_BOSb_cluster1 = pd.merge(df_BOSb_cluster, df_BOSb_centroids, left_index=True, right_index=True)\n",
    "df_BOSb_cluster1"
   ]
  },
  {
   "cell_type": "markdown",
   "metadata": {},
   "source": [
    "#### 6. Now among these clusters, we look at the museum options (the second parameter of interest) for each of the cluster centroids in both locations. The search radius is set to 20 km around the centroid."
   ]
  },
  {
   "cell_type": "code",
   "execution_count": 27,
   "metadata": {},
   "outputs": [],
   "source": [
    "limit1 = 10\n",
    "radius1 = 20000\n",
    "search_query1 = 'museum'"
   ]
  },
  {
   "cell_type": "markdown",
   "metadata": {},
   "source": [
    "##### 6.1. We create a function to return the top 5 from the list of museums in the cluster neigborhoods and use for loop to add the list of museum on to the dataframes with clusters and breweries information"
   ]
  },
  {
   "cell_type": "code",
   "execution_count": 29,
   "metadata": {
    "scrolled": true
   },
   "outputs": [
    {
     "data": {
      "text/html": [
       "<div>\n",
       "<style scoped>\n",
       "    .dataframe tbody tr th:only-of-type {\n",
       "        vertical-align: middle;\n",
       "    }\n",
       "\n",
       "    .dataframe tbody tr th {\n",
       "        vertical-align: top;\n",
       "    }\n",
       "\n",
       "    .dataframe thead th {\n",
       "        text-align: right;\n",
       "    }\n",
       "</style>\n",
       "<table border=\"1\" class=\"dataframe\">\n",
       "  <thead>\n",
       "    <tr style=\"text-align: right;\">\n",
       "      <th></th>\n",
       "      <th>centroid#</th>\n",
       "      <th>no. of breweries</th>\n",
       "      <th>latitude</th>\n",
       "      <th>longitude</th>\n",
       "      <th>Museum1</th>\n",
       "      <th>Museum2</th>\n",
       "      <th>Museum3</th>\n",
       "      <th>Museum4</th>\n",
       "      <th>Museum5</th>\n",
       "    </tr>\n",
       "  </thead>\n",
       "  <tbody>\n",
       "    <tr>\n",
       "      <th>0</th>\n",
       "      <td>0</td>\n",
       "      <td>14</td>\n",
       "      <td>37.624762</td>\n",
       "      <td>-122.074220</td>\n",
       "      <td>Niles Depot Museum</td>\n",
       "      <td>Museum on Main Street</td>\n",
       "      <td>Union City Historical Museum</td>\n",
       "      <td>Oakland Aviation Museum</td>\n",
       "      <td>Oakland Museum of California</td>\n",
       "    </tr>\n",
       "    <tr>\n",
       "      <th>1</th>\n",
       "      <td>1</td>\n",
       "      <td>23</td>\n",
       "      <td>37.739515</td>\n",
       "      <td>-122.400335</td>\n",
       "      <td>Museum of Craft and Design</td>\n",
       "      <td>de Young Museum</td>\n",
       "      <td>Children's Creativity Museum</td>\n",
       "      <td>Maritime Museum</td>\n",
       "      <td>Contemporary Jewish Museum</td>\n",
       "    </tr>\n",
       "    <tr>\n",
       "      <th>2</th>\n",
       "      <td>2</td>\n",
       "      <td>13</td>\n",
       "      <td>38.139788</td>\n",
       "      <td>-122.417722</td>\n",
       "      <td>Mare Island Historic Park Foundation Artifacts...</td>\n",
       "      <td>Petaluma Museum</td>\n",
       "      <td>Vallejo Naval and Historical Museum</td>\n",
       "      <td>Crockett Historical Society &amp; Museum</td>\n",
       "      <td>Marin History Museum - Boyd Gate House</td>\n",
       "    </tr>\n",
       "  </tbody>\n",
       "</table>\n",
       "</div>"
      ],
      "text/plain": [
       "   centroid#  no. of breweries   latitude   longitude  \\\n",
       "0          0                14  37.624762 -122.074220   \n",
       "1          1                23  37.739515 -122.400335   \n",
       "2          2                13  38.139788 -122.417722   \n",
       "\n",
       "                                             Museum1                Museum2  \\\n",
       "0                                 Niles Depot Museum  Museum on Main Street   \n",
       "1                         Museum of Craft and Design        de Young Museum   \n",
       "2  Mare Island Historic Park Foundation Artifacts...        Petaluma Museum   \n",
       "\n",
       "                               Museum3                               Museum4  \\\n",
       "0         Union City Historical Museum               Oakland Aviation Museum   \n",
       "1         Children's Creativity Museum                       Maritime Museum   \n",
       "2  Vallejo Naval and Historical Museum  Crockett Historical Society & Museum   \n",
       "\n",
       "                                  Museum5  \n",
       "0            Oakland Museum of California  \n",
       "1              Contemporary Jewish Museum  \n",
       "2  Marin History Museum - Boyd Gate House  "
      ]
     },
     "execution_count": 29,
     "metadata": {},
     "output_type": "execute_result"
    }
   ],
   "source": [
    "def df_explore(x,y):\n",
    "    url = 'https://api.foursquare.com/v2/venues/search?client_id={}&client_secret={}&ll={},{}&v={}&query={}&radius={}&limit={}'.format(CLIENT_ID, CLIENT_SECRET, x, y, VERSION, search_query1, radius1, limit1)\n",
    "    results = requests.get(url).json()\n",
    "    r1 = results ['response']['venues']\n",
    "    r2 = pd.json_normalize(r1)\n",
    "    r3 = r2[['name']].head(5).transpose()\n",
    "    return r3\n",
    "\n",
    "df_SFOm = pd.DataFrame()  \n",
    "\n",
    "for i in centroids_SFOb:\n",
    "    df1 = df_explore(i[0], i[1])\n",
    "    df_SFOm=df_SFOm.append(df1,ignore_index=False)\n",
    "    \n",
    "df_SFOm.reset_index(drop=True, inplace=True)\n",
    "df_SFOm.columns = ['Museum1','Museum2','Museum3','Museum4','Museum5']\n",
    "df_SFOm\n",
    "    \n",
    "df_SFO_beerandmuseum_tour = pd.merge(df_SFOb_cluster1, df_SFOm,left_index=True, right_index=True)\n",
    "df_SFO_beerandmuseum_tour\n",
    "   "
   ]
  },
  {
   "cell_type": "markdown",
   "metadata": {},
   "source": [
    "##### 6.2. Repeating the creation of summary dataframe for BOS location"
   ]
  },
  {
   "cell_type": "code",
   "execution_count": 31,
   "metadata": {},
   "outputs": [
    {
     "data": {
      "text/html": [
       "<div>\n",
       "<style scoped>\n",
       "    .dataframe tbody tr th:only-of-type {\n",
       "        vertical-align: middle;\n",
       "    }\n",
       "\n",
       "    .dataframe tbody tr th {\n",
       "        vertical-align: top;\n",
       "    }\n",
       "\n",
       "    .dataframe thead th {\n",
       "        text-align: right;\n",
       "    }\n",
       "</style>\n",
       "<table border=\"1\" class=\"dataframe\">\n",
       "  <thead>\n",
       "    <tr style=\"text-align: right;\">\n",
       "      <th></th>\n",
       "      <th>no. of breweries</th>\n",
       "      <th>latitude</th>\n",
       "      <th>longitude</th>\n",
       "      <th>Museum1</th>\n",
       "      <th>Museum2</th>\n",
       "      <th>Museum3</th>\n",
       "      <th>Museum4</th>\n",
       "      <th>Museum5</th>\n",
       "    </tr>\n",
       "    <tr>\n",
       "      <th>cluster#</th>\n",
       "      <th></th>\n",
       "      <th></th>\n",
       "      <th></th>\n",
       "      <th></th>\n",
       "      <th></th>\n",
       "      <th></th>\n",
       "      <th></th>\n",
       "      <th></th>\n",
       "    </tr>\n",
       "  </thead>\n",
       "  <tbody>\n",
       "    <tr>\n",
       "      <th>0</th>\n",
       "      <td>34</td>\n",
       "      <td>42.332334</td>\n",
       "      <td>-71.087180</td>\n",
       "      <td>Museum of Fine Arts</td>\n",
       "      <td>Isabella Stewart Gardner Museum</td>\n",
       "      <td>MBTA Museum of Fine Arts Station</td>\n",
       "      <td>Museum of Science</td>\n",
       "      <td>Boston Tea Party Ships and Museum</td>\n",
       "    </tr>\n",
       "    <tr>\n",
       "      <th>1</th>\n",
       "      <td>6</td>\n",
       "      <td>42.519094</td>\n",
       "      <td>-70.928169</td>\n",
       "      <td>Museum Place Mall</td>\n",
       "      <td>Historic New England Phillips House Museum</td>\n",
       "      <td>Peabody Essex Museum (PEM)</td>\n",
       "      <td>Salem Witch Museum</td>\n",
       "      <td>Witch History Museum</td>\n",
       "    </tr>\n",
       "    <tr>\n",
       "      <th>2</th>\n",
       "      <td>10</td>\n",
       "      <td>42.382710</td>\n",
       "      <td>-71.268657</td>\n",
       "      <td>Charles River Museum of Industry &amp; Innovation</td>\n",
       "      <td>DeCordova Museum and Sculpture Park</td>\n",
       "      <td>Museum of Science</td>\n",
       "      <td>Museum of Modern Renaissance</td>\n",
       "      <td>National Heritage Museum</td>\n",
       "    </tr>\n",
       "  </tbody>\n",
       "</table>\n",
       "</div>"
      ],
      "text/plain": [
       "          no. of breweries   latitude  longitude  \\\n",
       "cluster#                                           \n",
       "0                       34  42.332334 -71.087180   \n",
       "1                        6  42.519094 -70.928169   \n",
       "2                       10  42.382710 -71.268657   \n",
       "\n",
       "                                                Museum1  \\\n",
       "cluster#                                                  \n",
       "0                                   Museum of Fine Arts   \n",
       "1                                     Museum Place Mall   \n",
       "2         Charles River Museum of Industry & Innovation   \n",
       "\n",
       "                                             Museum2  \\\n",
       "cluster#                                               \n",
       "0                    Isabella Stewart Gardner Museum   \n",
       "1         Historic New England Phillips House Museum   \n",
       "2                DeCordova Museum and Sculpture Park   \n",
       "\n",
       "                                   Museum3                       Museum4  \\\n",
       "cluster#                                                                   \n",
       "0         MBTA Museum of Fine Arts Station             Museum of Science   \n",
       "1               Peabody Essex Museum (PEM)            Salem Witch Museum   \n",
       "2                        Museum of Science  Museum of Modern Renaissance   \n",
       "\n",
       "                                    Museum5  \n",
       "cluster#                                     \n",
       "0         Boston Tea Party Ships and Museum  \n",
       "1                      Witch History Museum  \n",
       "2                  National Heritage Museum  "
      ]
     },
     "execution_count": 31,
     "metadata": {},
     "output_type": "execute_result"
    }
   ],
   "source": [
    "\n",
    "df_BOSm = pd.DataFrame()  \n",
    "\n",
    "for i in centroids_BOSb:\n",
    "    df2 = df_explore(i[0], i[1])\n",
    "    df_BOSm=df_BOSm.append(df2,ignore_index=False)\n",
    "    \n",
    "df_BOSm.reset_index(drop=True, inplace=True)\n",
    "df_BOSm.columns = ['Museum1','Museum2','Museum3','Museum4','Museum5']\n",
    "df_BOSm\n",
    "    \n",
    "df_BOS_beerandmuseum_tour = pd.merge(df_BOSb_cluster1, df_BOSm,left_index=True, right_index=True)\n",
    "df_BOS_beerandmuseum_tour\n",
    "   \n",
    "        \n",
    "    "
   ]
  }
 ],
 "metadata": {
  "kernelspec": {
   "display_name": "Python 3",
   "language": "python",
   "name": "python3"
  },
  "language_info": {
   "codemirror_mode": {
    "name": "ipython",
    "version": 3
   },
   "file_extension": ".py",
   "mimetype": "text/x-python",
   "name": "python",
   "nbconvert_exporter": "python",
   "pygments_lexer": "ipython3",
   "version": "3.7.6"
  },
  "widgets": {
   "state": {},
   "version": "1.1.2"
  }
 },
 "nbformat": 4,
 "nbformat_minor": 4
}
