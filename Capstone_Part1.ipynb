{
 "cells": [
  {
   "cell_type": "markdown",
   "metadata": {},
   "source": [
    "## Capstone Project - Part I"
   ]
  },
  {
   "cell_type": "markdown",
   "metadata": {},
   "source": [
    "### Creating dataset from the Wikipedia page"
   ]
  },
  {
   "cell_type": "markdown",
   "metadata": {},
   "source": [
    "*Import libraries necessary and BeautifulSoup*"
   ]
  },
  {
   "cell_type": "code",
   "execution_count": 1,
   "metadata": {},
   "outputs": [],
   "source": [
    "import numpy as np\n",
    "import pandas as pd"
   ]
  },
  {
   "cell_type": "code",
   "execution_count": 2,
   "metadata": {},
   "outputs": [],
   "source": [
    "import requests\n",
    "from bs4 import BeautifulSoup"
   ]
  },
  {
   "cell_type": "markdown",
   "metadata": {},
   "source": [
    "*Accessing the wiki page and using soup to find the table*"
   ]
  },
  {
   "cell_type": "code",
   "execution_count": 3,
   "metadata": {},
   "outputs": [],
   "source": [
    "wikipage = 'https://en.wikipedia.org/wiki/List_of_postal_codes_of_Canada:_M'\n",
    "response = requests.get(wikipage)"
   ]
  },
  {
   "cell_type": "code",
   "execution_count": 4,
   "metadata": {},
   "outputs": [],
   "source": [
    "soup = BeautifulSoup(response.text,'html.parser')\n",
    "table = soup.find('table', {'class': 'wikitable sortable'})"
   ]
  },
  {
   "cell_type": "markdown",
   "metadata": {},
   "source": [
    "*finding all rows based on html syntax*"
   ]
  },
  {
   "cell_type": "code",
   "execution_count": 5,
   "metadata": {},
   "outputs": [],
   "source": [
    "rows_all = table.find_all('tr')"
   ]
  },
  {
   "cell_type": "markdown",
   "metadata": {},
   "source": [
    "*defining columns and creating dataframe with one row containing column headings*"
   ]
  },
  {
   "cell_type": "code",
   "execution_count": 6,
   "metadata": {},
   "outputs": [],
   "source": [
    "column_names = ['Postal Code', 'Borough', 'Neighborhood']\n",
    "df = pd.DataFrame(columns=column_names)"
   ]
  },
  {
   "cell_type": "markdown",
   "metadata": {},
   "source": [
    "*Populate the dataframe with the rows using for loop*"
   ]
  },
  {
   "cell_type": "code",
   "execution_count": 7,
   "metadata": {},
   "outputs": [],
   "source": [
    "for tr in rows_all[1:]:\n",
    "    td = tr.find_all('td')\n",
    "    row = [i.text.replace('\\n','') for i in td]\n",
    "    df = df.append({'Postal Code': row[0],\n",
    "                    'Borough': row[1],\n",
    "                    'Neighborhood': row[2]}, ignore_index=True)"
   ]
  },
  {
   "cell_type": "code",
   "execution_count": 8,
   "metadata": {},
   "outputs": [
    {
     "data": {
      "text/html": [
       "<div>\n",
       "<style scoped>\n",
       "    .dataframe tbody tr th:only-of-type {\n",
       "        vertical-align: middle;\n",
       "    }\n",
       "\n",
       "    .dataframe tbody tr th {\n",
       "        vertical-align: top;\n",
       "    }\n",
       "\n",
       "    .dataframe thead th {\n",
       "        text-align: right;\n",
       "    }\n",
       "</style>\n",
       "<table border=\"1\" class=\"dataframe\">\n",
       "  <thead>\n",
       "    <tr style=\"text-align: right;\">\n",
       "      <th></th>\n",
       "      <th>Postal Code</th>\n",
       "      <th>Borough</th>\n",
       "      <th>Neighborhood</th>\n",
       "    </tr>\n",
       "  </thead>\n",
       "  <tbody>\n",
       "    <tr>\n",
       "      <th>0</th>\n",
       "      <td>M1A</td>\n",
       "      <td>Not assigned</td>\n",
       "      <td>Not assigned</td>\n",
       "    </tr>\n",
       "    <tr>\n",
       "      <th>1</th>\n",
       "      <td>M2A</td>\n",
       "      <td>Not assigned</td>\n",
       "      <td>Not assigned</td>\n",
       "    </tr>\n",
       "    <tr>\n",
       "      <th>2</th>\n",
       "      <td>M3A</td>\n",
       "      <td>North York</td>\n",
       "      <td>Parkwoods</td>\n",
       "    </tr>\n",
       "    <tr>\n",
       "      <th>3</th>\n",
       "      <td>M4A</td>\n",
       "      <td>North York</td>\n",
       "      <td>Victoria Village</td>\n",
       "    </tr>\n",
       "    <tr>\n",
       "      <th>4</th>\n",
       "      <td>M5A</td>\n",
       "      <td>Downtown Toronto</td>\n",
       "      <td>Regent Park, Harbourfront</td>\n",
       "    </tr>\n",
       "  </tbody>\n",
       "</table>\n",
       "</div>"
      ],
      "text/plain": [
       "  Postal Code           Borough               Neighborhood\n",
       "0         M1A      Not assigned               Not assigned\n",
       "1         M2A      Not assigned               Not assigned\n",
       "2         M3A        North York                  Parkwoods\n",
       "3         M4A        North York           Victoria Village\n",
       "4         M5A  Downtown Toronto  Regent Park, Harbourfront"
      ]
     },
     "execution_count": 8,
     "metadata": {},
     "output_type": "execute_result"
    }
   ],
   "source": [
    "df.head()"
   ]
  },
  {
   "cell_type": "code",
   "execution_count": 9,
   "metadata": {},
   "outputs": [
    {
     "data": {
      "text/plain": [
       "(180, 3)"
      ]
     },
     "execution_count": 9,
     "metadata": {},
     "output_type": "execute_result"
    }
   ],
   "source": [
    "df.shape"
   ]
  },
  {
   "cell_type": "markdown",
   "metadata": {},
   "source": [
    "*Dropping the rows where the boroughs are 'not assigned'*"
   ]
  },
  {
   "cell_type": "code",
   "execution_count": 10,
   "metadata": {},
   "outputs": [],
   "source": [
    "df.drop(df[df['Borough']== 'Not assigned'].index, axis=0, inplace=True)\n",
    "df.reset_index(drop=True, inplace=True)"
   ]
  },
  {
   "cell_type": "code",
   "execution_count": 11,
   "metadata": {},
   "outputs": [
    {
     "data": {
      "text/plain": [
       "(103, 3)"
      ]
     },
     "execution_count": 11,
     "metadata": {},
     "output_type": "execute_result"
    }
   ],
   "source": [
    "df.shape"
   ]
  },
  {
   "cell_type": "markdown",
   "metadata": {},
   "source": [
    "*Making sure that neighborhood has no 'not assigned' values*"
   ]
  },
  {
   "cell_type": "code",
   "execution_count": 12,
   "metadata": {},
   "outputs": [],
   "source": [
    "for x in range (0,len(df)):\n",
    "    df.replace(df.iloc[x,2]=='Not assigned', df.iloc[x,1], inplace=True)\n",
    "\n"
   ]
  },
  {
   "cell_type": "code",
   "execution_count": 13,
   "metadata": {},
   "outputs": [
    {
     "data": {
      "text/html": [
       "<div>\n",
       "<style scoped>\n",
       "    .dataframe tbody tr th:only-of-type {\n",
       "        vertical-align: middle;\n",
       "    }\n",
       "\n",
       "    .dataframe tbody tr th {\n",
       "        vertical-align: top;\n",
       "    }\n",
       "\n",
       "    .dataframe thead th {\n",
       "        text-align: right;\n",
       "    }\n",
       "</style>\n",
       "<table border=\"1\" class=\"dataframe\">\n",
       "  <thead>\n",
       "    <tr style=\"text-align: right;\">\n",
       "      <th></th>\n",
       "      <th>Postal Code</th>\n",
       "      <th>Borough</th>\n",
       "      <th>Neighborhood</th>\n",
       "    </tr>\n",
       "  </thead>\n",
       "  <tbody>\n",
       "    <tr>\n",
       "      <th>0</th>\n",
       "      <td>M3A</td>\n",
       "      <td>North York</td>\n",
       "      <td>Parkwoods</td>\n",
       "    </tr>\n",
       "    <tr>\n",
       "      <th>1</th>\n",
       "      <td>M4A</td>\n",
       "      <td>North York</td>\n",
       "      <td>Victoria Village</td>\n",
       "    </tr>\n",
       "    <tr>\n",
       "      <th>2</th>\n",
       "      <td>M5A</td>\n",
       "      <td>Downtown Toronto</td>\n",
       "      <td>Regent Park, Harbourfront</td>\n",
       "    </tr>\n",
       "    <tr>\n",
       "      <th>3</th>\n",
       "      <td>M6A</td>\n",
       "      <td>North York</td>\n",
       "      <td>Lawrence Manor, Lawrence Heights</td>\n",
       "    </tr>\n",
       "    <tr>\n",
       "      <th>4</th>\n",
       "      <td>M7A</td>\n",
       "      <td>Downtown Toronto</td>\n",
       "      <td>Queen's Park, Ontario Provincial Government</td>\n",
       "    </tr>\n",
       "    <tr>\n",
       "      <th>5</th>\n",
       "      <td>M9A</td>\n",
       "      <td>Etobicoke</td>\n",
       "      <td>Islington Avenue, Humber Valley Village</td>\n",
       "    </tr>\n",
       "    <tr>\n",
       "      <th>6</th>\n",
       "      <td>M1B</td>\n",
       "      <td>Scarborough</td>\n",
       "      <td>Malvern, Rouge</td>\n",
       "    </tr>\n",
       "    <tr>\n",
       "      <th>7</th>\n",
       "      <td>M3B</td>\n",
       "      <td>North York</td>\n",
       "      <td>Don Mills</td>\n",
       "    </tr>\n",
       "    <tr>\n",
       "      <th>8</th>\n",
       "      <td>M4B</td>\n",
       "      <td>East York</td>\n",
       "      <td>Parkview Hill, Woodbine Gardens</td>\n",
       "    </tr>\n",
       "    <tr>\n",
       "      <th>9</th>\n",
       "      <td>M5B</td>\n",
       "      <td>Downtown Toronto</td>\n",
       "      <td>Garden District, Ryerson</td>\n",
       "    </tr>\n",
       "  </tbody>\n",
       "</table>\n",
       "</div>"
      ],
      "text/plain": [
       "  Postal Code           Borough                                 Neighborhood\n",
       "0         M3A        North York                                    Parkwoods\n",
       "1         M4A        North York                             Victoria Village\n",
       "2         M5A  Downtown Toronto                    Regent Park, Harbourfront\n",
       "3         M6A        North York             Lawrence Manor, Lawrence Heights\n",
       "4         M7A  Downtown Toronto  Queen's Park, Ontario Provincial Government\n",
       "5         M9A         Etobicoke      Islington Avenue, Humber Valley Village\n",
       "6         M1B       Scarborough                               Malvern, Rouge\n",
       "7         M3B        North York                                    Don Mills\n",
       "8         M4B         East York              Parkview Hill, Woodbine Gardens\n",
       "9         M5B  Downtown Toronto                     Garden District, Ryerson"
      ]
     },
     "execution_count": 13,
     "metadata": {},
     "output_type": "execute_result"
    }
   ],
   "source": [
    "df.head(10)"
   ]
  },
  {
   "cell_type": "code",
   "execution_count": 14,
   "metadata": {
    "scrolled": true
   },
   "outputs": [
    {
     "data": {
      "text/plain": [
       "(103, 3)"
      ]
     },
     "execution_count": 14,
     "metadata": {},
     "output_type": "execute_result"
    }
   ],
   "source": [
    "df.shape"
   ]
  },
  {
   "cell_type": "markdown",
   "metadata": {},
   "source": [
    "##### Reading the csv file with zipcodes and areas (http://cocl.us/Geospatial_data') to a dataframe"
   ]
  },
  {
   "cell_type": "code",
   "execution_count": 15,
   "metadata": {},
   "outputs": [
    {
     "data": {
      "text/plain": [
       "(103, 3)"
      ]
     },
     "execution_count": 15,
     "metadata": {},
     "output_type": "execute_result"
    }
   ],
   "source": [
    "df_zipcode = pd.read_csv('http://cocl.us/Geospatial_data')\n",
    "df_zipcode.shape"
   ]
  },
  {
   "cell_type": "code",
   "execution_count": 16,
   "metadata": {
    "scrolled": true
   },
   "outputs": [
    {
     "data": {
      "text/html": [
       "<div>\n",
       "<style scoped>\n",
       "    .dataframe tbody tr th:only-of-type {\n",
       "        vertical-align: middle;\n",
       "    }\n",
       "\n",
       "    .dataframe tbody tr th {\n",
       "        vertical-align: top;\n",
       "    }\n",
       "\n",
       "    .dataframe thead th {\n",
       "        text-align: right;\n",
       "    }\n",
       "</style>\n",
       "<table border=\"1\" class=\"dataframe\">\n",
       "  <thead>\n",
       "    <tr style=\"text-align: right;\">\n",
       "      <th></th>\n",
       "      <th>Postal Code</th>\n",
       "      <th>Latitude</th>\n",
       "      <th>Longitude</th>\n",
       "    </tr>\n",
       "  </thead>\n",
       "  <tbody>\n",
       "    <tr>\n",
       "      <th>0</th>\n",
       "      <td>M1B</td>\n",
       "      <td>43.806686</td>\n",
       "      <td>-79.194353</td>\n",
       "    </tr>\n",
       "    <tr>\n",
       "      <th>1</th>\n",
       "      <td>M1C</td>\n",
       "      <td>43.784535</td>\n",
       "      <td>-79.160497</td>\n",
       "    </tr>\n",
       "    <tr>\n",
       "      <th>2</th>\n",
       "      <td>M1E</td>\n",
       "      <td>43.763573</td>\n",
       "      <td>-79.188711</td>\n",
       "    </tr>\n",
       "    <tr>\n",
       "      <th>3</th>\n",
       "      <td>M1G</td>\n",
       "      <td>43.770992</td>\n",
       "      <td>-79.216917</td>\n",
       "    </tr>\n",
       "    <tr>\n",
       "      <th>4</th>\n",
       "      <td>M1H</td>\n",
       "      <td>43.773136</td>\n",
       "      <td>-79.239476</td>\n",
       "    </tr>\n",
       "  </tbody>\n",
       "</table>\n",
       "</div>"
      ],
      "text/plain": [
       "  Postal Code   Latitude  Longitude\n",
       "0         M1B  43.806686 -79.194353\n",
       "1         M1C  43.784535 -79.160497\n",
       "2         M1E  43.763573 -79.188711\n",
       "3         M1G  43.770992 -79.216917\n",
       "4         M1H  43.773136 -79.239476"
      ]
     },
     "execution_count": 16,
     "metadata": {},
     "output_type": "execute_result"
    }
   ],
   "source": [
    "df_zipcode.head()"
   ]
  },
  {
   "cell_type": "markdown",
   "metadata": {},
   "source": [
    "##### Merge two dataframes based on values in 'Postal Code'"
   ]
  },
  {
   "cell_type": "code",
   "execution_count": 17,
   "metadata": {},
   "outputs": [
    {
     "data": {
      "text/html": [
       "<div>\n",
       "<style scoped>\n",
       "    .dataframe tbody tr th:only-of-type {\n",
       "        vertical-align: middle;\n",
       "    }\n",
       "\n",
       "    .dataframe tbody tr th {\n",
       "        vertical-align: top;\n",
       "    }\n",
       "\n",
       "    .dataframe thead th {\n",
       "        text-align: right;\n",
       "    }\n",
       "</style>\n",
       "<table border=\"1\" class=\"dataframe\">\n",
       "  <thead>\n",
       "    <tr style=\"text-align: right;\">\n",
       "      <th></th>\n",
       "      <th>Postal Code</th>\n",
       "      <th>Borough</th>\n",
       "      <th>Neighborhood</th>\n",
       "      <th>Latitude</th>\n",
       "      <th>Longitude</th>\n",
       "    </tr>\n",
       "  </thead>\n",
       "  <tbody>\n",
       "    <tr>\n",
       "      <th>0</th>\n",
       "      <td>M3A</td>\n",
       "      <td>North York</td>\n",
       "      <td>Parkwoods</td>\n",
       "      <td>43.753259</td>\n",
       "      <td>-79.329656</td>\n",
       "    </tr>\n",
       "    <tr>\n",
       "      <th>1</th>\n",
       "      <td>M4A</td>\n",
       "      <td>North York</td>\n",
       "      <td>Victoria Village</td>\n",
       "      <td>43.725882</td>\n",
       "      <td>-79.315572</td>\n",
       "    </tr>\n",
       "    <tr>\n",
       "      <th>2</th>\n",
       "      <td>M5A</td>\n",
       "      <td>Downtown Toronto</td>\n",
       "      <td>Regent Park, Harbourfront</td>\n",
       "      <td>43.654260</td>\n",
       "      <td>-79.360636</td>\n",
       "    </tr>\n",
       "    <tr>\n",
       "      <th>3</th>\n",
       "      <td>M6A</td>\n",
       "      <td>North York</td>\n",
       "      <td>Lawrence Manor, Lawrence Heights</td>\n",
       "      <td>43.718518</td>\n",
       "      <td>-79.464763</td>\n",
       "    </tr>\n",
       "    <tr>\n",
       "      <th>4</th>\n",
       "      <td>M7A</td>\n",
       "      <td>Downtown Toronto</td>\n",
       "      <td>Queen's Park, Ontario Provincial Government</td>\n",
       "      <td>43.662301</td>\n",
       "      <td>-79.389494</td>\n",
       "    </tr>\n",
       "  </tbody>\n",
       "</table>\n",
       "</div>"
      ],
      "text/plain": [
       "  Postal Code           Borough                                 Neighborhood  \\\n",
       "0         M3A        North York                                    Parkwoods   \n",
       "1         M4A        North York                             Victoria Village   \n",
       "2         M5A  Downtown Toronto                    Regent Park, Harbourfront   \n",
       "3         M6A        North York             Lawrence Manor, Lawrence Heights   \n",
       "4         M7A  Downtown Toronto  Queen's Park, Ontario Provincial Government   \n",
       "\n",
       "    Latitude  Longitude  \n",
       "0  43.753259 -79.329656  \n",
       "1  43.725882 -79.315572  \n",
       "2  43.654260 -79.360636  \n",
       "3  43.718518 -79.464763  \n",
       "4  43.662301 -79.389494  "
      ]
     },
     "execution_count": 17,
     "metadata": {},
     "output_type": "execute_result"
    }
   ],
   "source": [
    "df_neighborhood = pd.merge(df, df_zipcode, on = 'Postal Code')\n",
    "df_neighborhood.head()"
   ]
  },
  {
   "cell_type": "markdown",
   "metadata": {},
   "source": [
    "#### Use FourSquare to explore the Downtown Toronto (Postal Code: M5A)"
   ]
  },
  {
   "cell_type": "code",
   "execution_count": 18,
   "metadata": {},
   "outputs": [
    {
     "name": "stdout",
     "output_type": "stream",
     "text": [
      "Your credentails:\n",
      "CLIENT_ID: YMX5TBXNFF0OEYWZ1ASKBOZTGOAMBZYB4Y34NZBWB30GZA34\n",
      "CLIENT_SECRET:EJDSGO1E1OSRZN3Y4ITYZRIP4A1TTC4DNONDGHF4RCFMQ2H4\n"
     ]
    }
   ],
   "source": [
    "CLIENT_ID = 'YMX5TBXNFF0OEYWZ1ASKBOZTGOAMBZYB4Y34NZBWB30GZA34' # your Foursquare ID\n",
    "CLIENT_SECRET = 'EJDSGO1E1OSRZN3Y4ITYZRIP4A1TTC4DNONDGHF4RCFMQ2H4' # your Foursquare Secret\n",
    "VERSION = '20200603'\n",
    "print('Your credentails:')\n",
    "print('CLIENT_ID: ' + CLIENT_ID)\n",
    "print('CLIENT_SECRET:' + CLIENT_SECRET)"
   ]
  },
  {
   "cell_type": "markdown",
   "metadata": {},
   "source": [
    "##### Exploring restaurants"
   ]
  },
  {
   "cell_type": "code",
   "execution_count": 19,
   "metadata": {},
   "outputs": [],
   "source": [
    "limit = 25\n",
    "radius = 20000\n",
    "search_query = 'restaurant'"
   ]
  },
  {
   "cell_type": "code",
   "execution_count": 20,
   "metadata": {},
   "outputs": [
    {
     "data": {
      "text/html": [
       "<div>\n",
       "<style scoped>\n",
       "    .dataframe tbody tr th:only-of-type {\n",
       "        vertical-align: middle;\n",
       "    }\n",
       "\n",
       "    .dataframe tbody tr th {\n",
       "        vertical-align: top;\n",
       "    }\n",
       "\n",
       "    .dataframe thead th {\n",
       "        text-align: right;\n",
       "    }\n",
       "</style>\n",
       "<table border=\"1\" class=\"dataframe\">\n",
       "  <thead>\n",
       "    <tr style=\"text-align: right;\">\n",
       "      <th></th>\n",
       "      <th>id</th>\n",
       "      <th>name</th>\n",
       "      <th>location.lat</th>\n",
       "      <th>location.lng</th>\n",
       "      <th>location.distance</th>\n",
       "    </tr>\n",
       "  </thead>\n",
       "  <tbody>\n",
       "    <tr>\n",
       "      <th>0</th>\n",
       "      <td>4ad4c05cf964a52006f620e3</td>\n",
       "      <td>Victoria's Restaurant</td>\n",
       "      <td>43.649298</td>\n",
       "      <td>-79.376431</td>\n",
       "      <td>1386</td>\n",
       "    </tr>\n",
       "    <tr>\n",
       "      <th>1</th>\n",
       "      <td>5d3127c715cfea0007e44d52</td>\n",
       "      <td>est Restaurant</td>\n",
       "      <td>43.658911</td>\n",
       "      <td>-79.349035</td>\n",
       "      <td>1068</td>\n",
       "    </tr>\n",
       "    <tr>\n",
       "      <th>2</th>\n",
       "      <td>4ada5d5bf964a520e92121e3</td>\n",
       "      <td>The Hot House Restaurant &amp; Bar</td>\n",
       "      <td>43.648824</td>\n",
       "      <td>-79.373702</td>\n",
       "      <td>1213</td>\n",
       "    </tr>\n",
       "    <tr>\n",
       "      <th>3</th>\n",
       "      <td>4ae77362f964a52069ab21e3</td>\n",
       "      <td>Mi Mi Restaurant</td>\n",
       "      <td>43.666293</td>\n",
       "      <td>-79.349079</td>\n",
       "      <td>1631</td>\n",
       "    </tr>\n",
       "    <tr>\n",
       "      <th>4</th>\n",
       "      <td>4ad4c05cf964a520e1f520e3</td>\n",
       "      <td>Docks Restaurant &amp; Night Club The</td>\n",
       "      <td>43.641806</td>\n",
       "      <td>-79.354171</td>\n",
       "      <td>1480</td>\n",
       "    </tr>\n",
       "    <tr>\n",
       "      <th>5</th>\n",
       "      <td>4ad4c05ff964a52048f720e3</td>\n",
       "      <td>Hemispheres Restaurant &amp; Bistro</td>\n",
       "      <td>43.654884</td>\n",
       "      <td>-79.385931</td>\n",
       "      <td>2038</td>\n",
       "    </tr>\n",
       "    <tr>\n",
       "      <th>6</th>\n",
       "      <td>4ad4c05ff964a52018f720e3</td>\n",
       "      <td>Cottage Restaurant &amp; Lounge</td>\n",
       "      <td>43.662770</td>\n",
       "      <td>-79.376894</td>\n",
       "      <td>1616</td>\n",
       "    </tr>\n",
       "    <tr>\n",
       "      <th>7</th>\n",
       "      <td>4b7b268cf964a52061542fe3</td>\n",
       "      <td>Tender Trap Restaurant</td>\n",
       "      <td>43.667724</td>\n",
       "      <td>-79.369485</td>\n",
       "      <td>1659</td>\n",
       "    </tr>\n",
       "    <tr>\n",
       "      <th>8</th>\n",
       "      <td>4bd47e6fcfa7b7139f2924da</td>\n",
       "      <td>Studio Restaurant</td>\n",
       "      <td>43.661500</td>\n",
       "      <td>-79.379319</td>\n",
       "      <td>1706</td>\n",
       "    </tr>\n",
       "    <tr>\n",
       "      <th>9</th>\n",
       "      <td>4ad4c060f964a5207bf720e3</td>\n",
       "      <td>Gio Rana's Really Really Nice Restaurant</td>\n",
       "      <td>43.663367</td>\n",
       "      <td>-79.330425</td>\n",
       "      <td>2635</td>\n",
       "    </tr>\n",
       "  </tbody>\n",
       "</table>\n",
       "</div>"
      ],
      "text/plain": [
       "                         id                                      name  \\\n",
       "0  4ad4c05cf964a52006f620e3                     Victoria's Restaurant   \n",
       "1  5d3127c715cfea0007e44d52                            est Restaurant   \n",
       "2  4ada5d5bf964a520e92121e3            The Hot House Restaurant & Bar   \n",
       "3  4ae77362f964a52069ab21e3                          Mi Mi Restaurant   \n",
       "4  4ad4c05cf964a520e1f520e3         Docks Restaurant & Night Club The   \n",
       "5  4ad4c05ff964a52048f720e3           Hemispheres Restaurant & Bistro   \n",
       "6  4ad4c05ff964a52018f720e3               Cottage Restaurant & Lounge   \n",
       "7  4b7b268cf964a52061542fe3                    Tender Trap Restaurant   \n",
       "8  4bd47e6fcfa7b7139f2924da                         Studio Restaurant   \n",
       "9  4ad4c060f964a5207bf720e3  Gio Rana's Really Really Nice Restaurant   \n",
       "\n",
       "   location.lat  location.lng  location.distance  \n",
       "0     43.649298    -79.376431               1386  \n",
       "1     43.658911    -79.349035               1068  \n",
       "2     43.648824    -79.373702               1213  \n",
       "3     43.666293    -79.349079               1631  \n",
       "4     43.641806    -79.354171               1480  \n",
       "5     43.654884    -79.385931               2038  \n",
       "6     43.662770    -79.376894               1616  \n",
       "7     43.667724    -79.369485               1659  \n",
       "8     43.661500    -79.379319               1706  \n",
       "9     43.663367    -79.330425               2635  "
      ]
     },
     "execution_count": 20,
     "metadata": {},
     "output_type": "execute_result"
    }
   ],
   "source": [
    "url_restaurants = 'https://api.foursquare.com/v2/venues/search?client_id={}&client_secret={}&ll={},{}&v={}&query={}&radius={}&limit={}'.format(CLIENT_ID, CLIENT_SECRET, 43.654260, -79.360636, VERSION, search_query, radius, limit)\n",
    "eat_tor = requests.get(url_restaurants).json()\n",
    "eat_toronto = eat_tor['response']['venues']\n",
    "Toronto_eats_df = pd.json_normalize(eat_toronto)\n",
    "Toronto_eats = Toronto_eats_df[['id','name','location.lat','location.lng','location.distance']]\n",
    "Toronto_eats.head(10)"
   ]
  },
  {
   "cell_type": "markdown",
   "metadata": {},
   "source": [
    "##### Exploring shopping centers"
   ]
  },
  {
   "cell_type": "code",
   "execution_count": 21,
   "metadata": {},
   "outputs": [],
   "source": [
    "search_query1 = 'shopping centre'"
   ]
  },
  {
   "cell_type": "code",
   "execution_count": 22,
   "metadata": {},
   "outputs": [
    {
     "data": {
      "text/html": [
       "<div>\n",
       "<style scoped>\n",
       "    .dataframe tbody tr th:only-of-type {\n",
       "        vertical-align: middle;\n",
       "    }\n",
       "\n",
       "    .dataframe tbody tr th {\n",
       "        vertical-align: top;\n",
       "    }\n",
       "\n",
       "    .dataframe thead th {\n",
       "        text-align: right;\n",
       "    }\n",
       "</style>\n",
       "<table border=\"1\" class=\"dataframe\">\n",
       "  <thead>\n",
       "    <tr style=\"text-align: right;\">\n",
       "      <th></th>\n",
       "      <th>id</th>\n",
       "      <th>name</th>\n",
       "      <th>location.lat</th>\n",
       "      <th>location.lng</th>\n",
       "      <th>location.distance</th>\n",
       "    </tr>\n",
       "  </thead>\n",
       "  <tbody>\n",
       "    <tr>\n",
       "      <th>0</th>\n",
       "      <td>5044fe32e4b0c55b95cc2efd</td>\n",
       "      <td>York Mills Shopping Centre</td>\n",
       "      <td>43.747731</td>\n",
       "      <td>-79.384724</td>\n",
       "      <td>10584</td>\n",
       "    </tr>\n",
       "    <tr>\n",
       "      <th>1</th>\n",
       "      <td>4b71aa4bf964a520a4542de3</td>\n",
       "      <td>Chartwell Shopping Centre 集友商場</td>\n",
       "      <td>43.797768</td>\n",
       "      <td>-79.270853</td>\n",
       "      <td>17532</td>\n",
       "    </tr>\n",
       "    <tr>\n",
       "      <th>2</th>\n",
       "      <td>4f788be0e4b01af713f49d94</td>\n",
       "      <td>SkyCity Shopping Centre</td>\n",
       "      <td>43.804770</td>\n",
       "      <td>-79.288545</td>\n",
       "      <td>17729</td>\n",
       "    </tr>\n",
       "    <tr>\n",
       "      <th>3</th>\n",
       "      <td>4ef1f20d61af815c7919a64a</td>\n",
       "      <td>Upper Oakville Shopping Centre Head Office</td>\n",
       "      <td>43.654294</td>\n",
       "      <td>-79.340546</td>\n",
       "      <td>1618</td>\n",
       "    </tr>\n",
       "    <tr>\n",
       "      <th>4</th>\n",
       "      <td>4de175d9fa7651589ee7a14f</td>\n",
       "      <td>Milliken Wells Shopping Centre 愛登商場</td>\n",
       "      <td>43.825518</td>\n",
       "      <td>-79.276936</td>\n",
       "      <td>20217</td>\n",
       "    </tr>\n",
       "    <tr>\n",
       "      <th>5</th>\n",
       "      <td>4ad4c062f964a52002f820e3</td>\n",
       "      <td>Yorkdale Shopping Centre</td>\n",
       "      <td>43.725482</td>\n",
       "      <td>-79.452736</td>\n",
       "      <td>10854</td>\n",
       "    </tr>\n",
       "    <tr>\n",
       "      <th>6</th>\n",
       "      <td>5c55cbe28194fc002cc3f1fd</td>\n",
       "      <td>Riverdale Shopping Centre</td>\n",
       "      <td>43.668694</td>\n",
       "      <td>-79.342070</td>\n",
       "      <td>2194</td>\n",
       "    </tr>\n",
       "    <tr>\n",
       "      <th>7</th>\n",
       "      <td>4b157c6bf964a52091ad23e3</td>\n",
       "      <td>Galleria Shopping Centre</td>\n",
       "      <td>43.667592</td>\n",
       "      <td>-79.442053</td>\n",
       "      <td>6722</td>\n",
       "    </tr>\n",
       "    <tr>\n",
       "      <th>8</th>\n",
       "      <td>4adc8d0df964a520222d21e3</td>\n",
       "      <td>Square One Shopping Centre</td>\n",
       "      <td>43.593169</td>\n",
       "      <td>-79.644493</td>\n",
       "      <td>23863</td>\n",
       "    </tr>\n",
       "    <tr>\n",
       "      <th>9</th>\n",
       "      <td>4f1814f1e4b0259ede704386</td>\n",
       "      <td>Sancardia Shopping Centre</td>\n",
       "      <td>43.678378</td>\n",
       "      <td>-79.358412</td>\n",
       "      <td>2690</td>\n",
       "    </tr>\n",
       "  </tbody>\n",
       "</table>\n",
       "</div>"
      ],
      "text/plain": [
       "                         id                                        name  \\\n",
       "0  5044fe32e4b0c55b95cc2efd                  York Mills Shopping Centre   \n",
       "1  4b71aa4bf964a520a4542de3              Chartwell Shopping Centre 集友商場   \n",
       "2  4f788be0e4b01af713f49d94                     SkyCity Shopping Centre   \n",
       "3  4ef1f20d61af815c7919a64a  Upper Oakville Shopping Centre Head Office   \n",
       "4  4de175d9fa7651589ee7a14f         Milliken Wells Shopping Centre 愛登商場   \n",
       "5  4ad4c062f964a52002f820e3                    Yorkdale Shopping Centre   \n",
       "6  5c55cbe28194fc002cc3f1fd                   Riverdale Shopping Centre   \n",
       "7  4b157c6bf964a52091ad23e3                    Galleria Shopping Centre   \n",
       "8  4adc8d0df964a520222d21e3                  Square One Shopping Centre   \n",
       "9  4f1814f1e4b0259ede704386                   Sancardia Shopping Centre   \n",
       "\n",
       "   location.lat  location.lng  location.distance  \n",
       "0     43.747731    -79.384724              10584  \n",
       "1     43.797768    -79.270853              17532  \n",
       "2     43.804770    -79.288545              17729  \n",
       "3     43.654294    -79.340546               1618  \n",
       "4     43.825518    -79.276936              20217  \n",
       "5     43.725482    -79.452736              10854  \n",
       "6     43.668694    -79.342070               2194  \n",
       "7     43.667592    -79.442053               6722  \n",
       "8     43.593169    -79.644493              23863  \n",
       "9     43.678378    -79.358412               2690  "
      ]
     },
     "execution_count": 22,
     "metadata": {},
     "output_type": "execute_result"
    }
   ],
   "source": [
    "url_shops = 'https://api.foursquare.com/v2/venues/search?client_id={}&client_secret={}&ll={},{}&v={}&query={}&radius={}&limit={}'.format(CLIENT_ID, CLIENT_SECRET, 43.654260, -79.360636, VERSION, search_query1, radius, limit)\n",
    "shops_tor = requests.get(url_shops).json()\n",
    "shop_toronto = shops_tor['response']['venues']\n",
    "Toronto_shops_df = pd.json_normalize(shop_toronto)\n",
    "Toronto_shops = Toronto_shops_df[['id','name','location.lat','location.lng','location.distance']]\n",
    "Toronto_shops.head(10)"
   ]
  },
  {
   "cell_type": "markdown",
   "metadata": {},
   "source": [
    "#### Using Folium to show the restaurants and shopping centers in the neighborhood"
   ]
  },
  {
   "cell_type": "code",
   "execution_count": 28,
   "metadata": {},
   "outputs": [
    {
     "data": {
      "text/html": [
       "<div style=\"width:100%;\"><div style=\"position:relative;width:100%;height:0;padding-bottom:60%;\"><span style=\"color:#565656\">Make this Notebook Trusted to load map: File -> Trust Notebook</span><iframe src=\"about:blank\" style=\"position:absolute;width:100%;height:100%;left:0;top:0;border:none !important;\" data-html=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 onload=\"this.contentDocument.open();this.contentDocument.write(atob(this.getAttribute('data-html')));this.contentDocument.close();\" allowfullscreen webkitallowfullscreen mozallowfullscreen></iframe></div></div>"
      ],
      "text/plain": [
       "<folium.folium.Map at 0x24f0ce2de48>"
      ]
     },
     "execution_count": 28,
     "metadata": {},
     "output_type": "execute_result"
    }
   ],
   "source": [
    "#map2 = folium.Map(location=[38.9, -77.05], tiles='CartoDB dark_matter', zoom_start=11)\n",
    "import folium\n",
    "map_Toronto = folium.Map(location=[43.654260, -79.360636], zoom_start=15)\n",
    "\n",
    "for lat, lng, name in zip(Toronto_eats['location.lat'],Toronto_eats['location.lng'],Toronto_eats['name']):\n",
    "    label = '{}'.format(name)\n",
    "    label = folium.Popup(label, parse_html=True)\n",
    "    folium.Marker(\n",
    "        [lat, lng],\n",
    "        popup=label,\n",
    "        ).add_to(map_Toronto)  \n",
    "        \n",
    "for lat, lng, name in zip(Toronto_shops['location.lat'],Toronto_shops['location.lng'],Toronto_shops['name']):\n",
    "    label = '{}'.format(name)\n",
    "    label = folium.Popup(label, parse_html=True)\n",
    "    folium.CircleMarker(\n",
    "        [lat, lng],\n",
    "        radius=5,\n",
    "        popup=label,\n",
    "        color='blue',\n",
    "        fill=True,\n",
    "        fill_color='#3186cc',\n",
    "        fill_opacity=0.7).add_to(map_Toronto)  \n",
    "\n",
    "    \n",
    "map_Toronto\n"
   ]
  },
  {
   "cell_type": "code",
   "execution_count": null,
   "metadata": {},
   "outputs": [],
   "source": [
    "folium.Marker([lat,lng],popup=name).add_to(map_Toronto)\n",
    "location=[row[\"lat\"], row[\"lon\"]], \n",
    "                                              radius=10, popup=row['name'])\n",
    "                                             .add_to(f_map), axis=1"
   ]
  }
 ],
 "metadata": {
  "kernelspec": {
   "display_name": "Python 3",
   "language": "python",
   "name": "python3"
  },
  "language_info": {
   "codemirror_mode": {
    "name": "ipython",
    "version": 3
   },
   "file_extension": ".py",
   "mimetype": "text/x-python",
   "name": "python",
   "nbconvert_exporter": "python",
   "pygments_lexer": "ipython3",
   "version": "3.7.6"
  }
 },
 "nbformat": 4,
 "nbformat_minor": 4
}
