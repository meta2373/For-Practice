{
 "cells": [
  {
   "cell_type": "markdown",
   "metadata": {},
   "source": [
    "## Capstone Project - Part I"
   ]
  },
  {
   "cell_type": "markdown",
   "metadata": {},
   "source": [
    "### Creating dataset from the Wikipedia page"
   ]
  },
  {
   "cell_type": "markdown",
   "metadata": {},
   "source": [
    "*Import libraries necessary and BeautifulSoup*"
   ]
  },
  {
   "cell_type": "code",
   "execution_count": 1,
   "metadata": {},
   "outputs": [],
   "source": [
    "import numpy as np\n",
    "import pandas as pd"
   ]
  },
  {
   "cell_type": "code",
   "execution_count": 2,
   "metadata": {},
   "outputs": [],
   "source": [
    "import requests\n",
    "from bs4 import BeautifulSoup"
   ]
  },
  {
   "cell_type": "markdown",
   "metadata": {},
   "source": [
    "*Accessing the wiki page and using soup to find the table*"
   ]
  },
  {
   "cell_type": "code",
   "execution_count": 3,
   "metadata": {},
   "outputs": [],
   "source": [
    "wikipage = 'https://en.wikipedia.org/wiki/List_of_postal_codes_of_Canada:_M'\n",
    "response = requests.get(wikipage)"
   ]
  },
  {
   "cell_type": "code",
   "execution_count": 4,
   "metadata": {},
   "outputs": [],
   "source": [
    "soup = BeautifulSoup(response.text,'html.parser')\n",
    "table = soup.find('table', {'class': 'wikitable sortable'})"
   ]
  },
  {
   "cell_type": "markdown",
   "metadata": {},
   "source": [
    "*finding all rows based on html syntax*"
   ]
  },
  {
   "cell_type": "code",
   "execution_count": 5,
   "metadata": {},
   "outputs": [],
   "source": [
    "rows_all = table.find_all('tr')"
   ]
  },
  {
   "cell_type": "markdown",
   "metadata": {},
   "source": [
    "*defining columns and creating dataframe with one row containing column headings*"
   ]
  },
  {
   "cell_type": "code",
   "execution_count": 6,
   "metadata": {},
   "outputs": [],
   "source": [
    "column_names = ['Postal Code', 'Borough', 'Neighborhood']\n",
    "df = pd.DataFrame(columns=column_names)"
   ]
  },
  {
   "cell_type": "markdown",
   "metadata": {},
   "source": [
    "*Populate the dataframe with the rows using for loop*"
   ]
  },
  {
   "cell_type": "code",
   "execution_count": 7,
   "metadata": {},
   "outputs": [],
   "source": [
    "for tr in rows_all[1:]:\n",
    "    td = tr.find_all('td')\n",
    "    row = [i.text.replace('\\n','') for i in td]\n",
    "    df = df.append({'Postal Code': row[0],\n",
    "                    'Borough': row[1],\n",
    "                    'Neighborhood': row[2]}, ignore_index=True)"
   ]
  },
  {
   "cell_type": "code",
   "execution_count": 8,
   "metadata": {},
   "outputs": [
    {
     "data": {
      "text/html": [
       "<div>\n",
       "<style scoped>\n",
       "    .dataframe tbody tr th:only-of-type {\n",
       "        vertical-align: middle;\n",
       "    }\n",
       "\n",
       "    .dataframe tbody tr th {\n",
       "        vertical-align: top;\n",
       "    }\n",
       "\n",
       "    .dataframe thead th {\n",
       "        text-align: right;\n",
       "    }\n",
       "</style>\n",
       "<table border=\"1\" class=\"dataframe\">\n",
       "  <thead>\n",
       "    <tr style=\"text-align: right;\">\n",
       "      <th></th>\n",
       "      <th>Postal Code</th>\n",
       "      <th>Borough</th>\n",
       "      <th>Neighborhood</th>\n",
       "    </tr>\n",
       "  </thead>\n",
       "  <tbody>\n",
       "    <tr>\n",
       "      <th>0</th>\n",
       "      <td>M1A</td>\n",
       "      <td>Not assigned</td>\n",
       "      <td>Not assigned</td>\n",
       "    </tr>\n",
       "    <tr>\n",
       "      <th>1</th>\n",
       "      <td>M2A</td>\n",
       "      <td>Not assigned</td>\n",
       "      <td>Not assigned</td>\n",
       "    </tr>\n",
       "    <tr>\n",
       "      <th>2</th>\n",
       "      <td>M3A</td>\n",
       "      <td>North York</td>\n",
       "      <td>Parkwoods</td>\n",
       "    </tr>\n",
       "    <tr>\n",
       "      <th>3</th>\n",
       "      <td>M4A</td>\n",
       "      <td>North York</td>\n",
       "      <td>Victoria Village</td>\n",
       "    </tr>\n",
       "    <tr>\n",
       "      <th>4</th>\n",
       "      <td>M5A</td>\n",
       "      <td>Downtown Toronto</td>\n",
       "      <td>Regent Park, Harbourfront</td>\n",
       "    </tr>\n",
       "  </tbody>\n",
       "</table>\n",
       "</div>"
      ],
      "text/plain": [
       "  Postal Code           Borough               Neighborhood\n",
       "0         M1A      Not assigned               Not assigned\n",
       "1         M2A      Not assigned               Not assigned\n",
       "2         M3A        North York                  Parkwoods\n",
       "3         M4A        North York           Victoria Village\n",
       "4         M5A  Downtown Toronto  Regent Park, Harbourfront"
      ]
     },
     "execution_count": 8,
     "metadata": {},
     "output_type": "execute_result"
    }
   ],
   "source": [
    "df.head()"
   ]
  },
  {
   "cell_type": "code",
   "execution_count": 9,
   "metadata": {},
   "outputs": [
    {
     "data": {
      "text/plain": [
       "(180, 3)"
      ]
     },
     "execution_count": 9,
     "metadata": {},
     "output_type": "execute_result"
    }
   ],
   "source": [
    "df.shape"
   ]
  },
  {
   "cell_type": "markdown",
   "metadata": {},
   "source": [
    "*Dropping the rows where the boroughs are 'not assigned'*"
   ]
  },
  {
   "cell_type": "code",
   "execution_count": 10,
   "metadata": {},
   "outputs": [],
   "source": [
    "df.drop(df[df['Borough']== 'Not assigned'].index, axis=0, inplace=True)\n",
    "df.reset_index(drop=True, inplace=True)"
   ]
  },
  {
   "cell_type": "code",
   "execution_count": 11,
   "metadata": {},
   "outputs": [
    {
     "data": {
      "text/plain": [
       "(103, 3)"
      ]
     },
     "execution_count": 11,
     "metadata": {},
     "output_type": "execute_result"
    }
   ],
   "source": [
    "df.shape"
   ]
  },
  {
   "cell_type": "markdown",
   "metadata": {},
   "source": [
    "*Making sure that neighborhood has no 'not assigned' values*"
   ]
  },
  {
   "cell_type": "code",
   "execution_count": 12,
   "metadata": {},
   "outputs": [],
   "source": [
    "for x in range (0,len(df)):\n",
    "    df.replace(df.iloc[x,2]=='Not assigned', df.iloc[x,1], inplace=True)\n",
    "\n"
   ]
  },
  {
   "cell_type": "code",
   "execution_count": 13,
   "metadata": {},
   "outputs": [
    {
     "data": {
      "text/html": [
       "<div>\n",
       "<style scoped>\n",
       "    .dataframe tbody tr th:only-of-type {\n",
       "        vertical-align: middle;\n",
       "    }\n",
       "\n",
       "    .dataframe tbody tr th {\n",
       "        vertical-align: top;\n",
       "    }\n",
       "\n",
       "    .dataframe thead th {\n",
       "        text-align: right;\n",
       "    }\n",
       "</style>\n",
       "<table border=\"1\" class=\"dataframe\">\n",
       "  <thead>\n",
       "    <tr style=\"text-align: right;\">\n",
       "      <th></th>\n",
       "      <th>Postal Code</th>\n",
       "      <th>Borough</th>\n",
       "      <th>Neighborhood</th>\n",
       "    </tr>\n",
       "  </thead>\n",
       "  <tbody>\n",
       "    <tr>\n",
       "      <th>0</th>\n",
       "      <td>M3A</td>\n",
       "      <td>North York</td>\n",
       "      <td>Parkwoods</td>\n",
       "    </tr>\n",
       "    <tr>\n",
       "      <th>1</th>\n",
       "      <td>M4A</td>\n",
       "      <td>North York</td>\n",
       "      <td>Victoria Village</td>\n",
       "    </tr>\n",
       "    <tr>\n",
       "      <th>2</th>\n",
       "      <td>M5A</td>\n",
       "      <td>Downtown Toronto</td>\n",
       "      <td>Regent Park, Harbourfront</td>\n",
       "    </tr>\n",
       "    <tr>\n",
       "      <th>3</th>\n",
       "      <td>M6A</td>\n",
       "      <td>North York</td>\n",
       "      <td>Lawrence Manor, Lawrence Heights</td>\n",
       "    </tr>\n",
       "    <tr>\n",
       "      <th>4</th>\n",
       "      <td>M7A</td>\n",
       "      <td>Downtown Toronto</td>\n",
       "      <td>Queen's Park, Ontario Provincial Government</td>\n",
       "    </tr>\n",
       "    <tr>\n",
       "      <th>5</th>\n",
       "      <td>M9A</td>\n",
       "      <td>Etobicoke</td>\n",
       "      <td>Islington Avenue, Humber Valley Village</td>\n",
       "    </tr>\n",
       "    <tr>\n",
       "      <th>6</th>\n",
       "      <td>M1B</td>\n",
       "      <td>Scarborough</td>\n",
       "      <td>Malvern, Rouge</td>\n",
       "    </tr>\n",
       "    <tr>\n",
       "      <th>7</th>\n",
       "      <td>M3B</td>\n",
       "      <td>North York</td>\n",
       "      <td>Don Mills</td>\n",
       "    </tr>\n",
       "    <tr>\n",
       "      <th>8</th>\n",
       "      <td>M4B</td>\n",
       "      <td>East York</td>\n",
       "      <td>Parkview Hill, Woodbine Gardens</td>\n",
       "    </tr>\n",
       "    <tr>\n",
       "      <th>9</th>\n",
       "      <td>M5B</td>\n",
       "      <td>Downtown Toronto</td>\n",
       "      <td>Garden District, Ryerson</td>\n",
       "    </tr>\n",
       "  </tbody>\n",
       "</table>\n",
       "</div>"
      ],
      "text/plain": [
       "  Postal Code           Borough                                 Neighborhood\n",
       "0         M3A        North York                                    Parkwoods\n",
       "1         M4A        North York                             Victoria Village\n",
       "2         M5A  Downtown Toronto                    Regent Park, Harbourfront\n",
       "3         M6A        North York             Lawrence Manor, Lawrence Heights\n",
       "4         M7A  Downtown Toronto  Queen's Park, Ontario Provincial Government\n",
       "5         M9A         Etobicoke      Islington Avenue, Humber Valley Village\n",
       "6         M1B       Scarborough                               Malvern, Rouge\n",
       "7         M3B        North York                                    Don Mills\n",
       "8         M4B         East York              Parkview Hill, Woodbine Gardens\n",
       "9         M5B  Downtown Toronto                     Garden District, Ryerson"
      ]
     },
     "execution_count": 13,
     "metadata": {},
     "output_type": "execute_result"
    }
   ],
   "source": [
    "df.head(10)"
   ]
  },
  {
   "cell_type": "code",
   "execution_count": 14,
   "metadata": {
    "scrolled": true
   },
   "outputs": [
    {
     "data": {
      "text/plain": [
       "(103, 3)"
      ]
     },
     "execution_count": 14,
     "metadata": {},
     "output_type": "execute_result"
    }
   ],
   "source": [
    "df.shape"
   ]
  },
  {
   "cell_type": "markdown",
   "metadata": {},
   "source": [
    "##### Reading the csv file with zipcodes and areas (http://cocl.us/Geospatial_data') to a dataframe"
   ]
  },
  {
   "cell_type": "code",
   "execution_count": 15,
   "metadata": {},
   "outputs": [
    {
     "data": {
      "text/plain": [
       "(103, 3)"
      ]
     },
     "execution_count": 15,
     "metadata": {},
     "output_type": "execute_result"
    }
   ],
   "source": [
    "df_zipcode = pd.read_csv('http://cocl.us/Geospatial_data')\n",
    "df_zipcode.shape"
   ]
  },
  {
   "cell_type": "code",
   "execution_count": 16,
   "metadata": {
    "scrolled": true
   },
   "outputs": [
    {
     "data": {
      "text/html": [
       "<div>\n",
       "<style scoped>\n",
       "    .dataframe tbody tr th:only-of-type {\n",
       "        vertical-align: middle;\n",
       "    }\n",
       "\n",
       "    .dataframe tbody tr th {\n",
       "        vertical-align: top;\n",
       "    }\n",
       "\n",
       "    .dataframe thead th {\n",
       "        text-align: right;\n",
       "    }\n",
       "</style>\n",
       "<table border=\"1\" class=\"dataframe\">\n",
       "  <thead>\n",
       "    <tr style=\"text-align: right;\">\n",
       "      <th></th>\n",
       "      <th>Postal Code</th>\n",
       "      <th>Latitude</th>\n",
       "      <th>Longitude</th>\n",
       "    </tr>\n",
       "  </thead>\n",
       "  <tbody>\n",
       "    <tr>\n",
       "      <th>0</th>\n",
       "      <td>M1B</td>\n",
       "      <td>43.806686</td>\n",
       "      <td>-79.194353</td>\n",
       "    </tr>\n",
       "    <tr>\n",
       "      <th>1</th>\n",
       "      <td>M1C</td>\n",
       "      <td>43.784535</td>\n",
       "      <td>-79.160497</td>\n",
       "    </tr>\n",
       "    <tr>\n",
       "      <th>2</th>\n",
       "      <td>M1E</td>\n",
       "      <td>43.763573</td>\n",
       "      <td>-79.188711</td>\n",
       "    </tr>\n",
       "    <tr>\n",
       "      <th>3</th>\n",
       "      <td>M1G</td>\n",
       "      <td>43.770992</td>\n",
       "      <td>-79.216917</td>\n",
       "    </tr>\n",
       "    <tr>\n",
       "      <th>4</th>\n",
       "      <td>M1H</td>\n",
       "      <td>43.773136</td>\n",
       "      <td>-79.239476</td>\n",
       "    </tr>\n",
       "  </tbody>\n",
       "</table>\n",
       "</div>"
      ],
      "text/plain": [
       "  Postal Code   Latitude  Longitude\n",
       "0         M1B  43.806686 -79.194353\n",
       "1         M1C  43.784535 -79.160497\n",
       "2         M1E  43.763573 -79.188711\n",
       "3         M1G  43.770992 -79.216917\n",
       "4         M1H  43.773136 -79.239476"
      ]
     },
     "execution_count": 16,
     "metadata": {},
     "output_type": "execute_result"
    }
   ],
   "source": [
    "df_zipcode.head()"
   ]
  },
  {
   "cell_type": "markdown",
   "metadata": {},
   "source": [
    "##### Merge two dataframes based on values in 'Postal Code'"
   ]
  },
  {
   "cell_type": "code",
   "execution_count": 17,
   "metadata": {},
   "outputs": [
    {
     "data": {
      "text/html": [
       "<div>\n",
       "<style scoped>\n",
       "    .dataframe tbody tr th:only-of-type {\n",
       "        vertical-align: middle;\n",
       "    }\n",
       "\n",
       "    .dataframe tbody tr th {\n",
       "        vertical-align: top;\n",
       "    }\n",
       "\n",
       "    .dataframe thead th {\n",
       "        text-align: right;\n",
       "    }\n",
       "</style>\n",
       "<table border=\"1\" class=\"dataframe\">\n",
       "  <thead>\n",
       "    <tr style=\"text-align: right;\">\n",
       "      <th></th>\n",
       "      <th>Postal Code</th>\n",
       "      <th>Borough</th>\n",
       "      <th>Neighborhood</th>\n",
       "      <th>Latitude</th>\n",
       "      <th>Longitude</th>\n",
       "    </tr>\n",
       "  </thead>\n",
       "  <tbody>\n",
       "    <tr>\n",
       "      <th>0</th>\n",
       "      <td>M3A</td>\n",
       "      <td>North York</td>\n",
       "      <td>Parkwoods</td>\n",
       "      <td>43.753259</td>\n",
       "      <td>-79.329656</td>\n",
       "    </tr>\n",
       "    <tr>\n",
       "      <th>1</th>\n",
       "      <td>M4A</td>\n",
       "      <td>North York</td>\n",
       "      <td>Victoria Village</td>\n",
       "      <td>43.725882</td>\n",
       "      <td>-79.315572</td>\n",
       "    </tr>\n",
       "    <tr>\n",
       "      <th>2</th>\n",
       "      <td>M5A</td>\n",
       "      <td>Downtown Toronto</td>\n",
       "      <td>Regent Park, Harbourfront</td>\n",
       "      <td>43.654260</td>\n",
       "      <td>-79.360636</td>\n",
       "    </tr>\n",
       "    <tr>\n",
       "      <th>3</th>\n",
       "      <td>M6A</td>\n",
       "      <td>North York</td>\n",
       "      <td>Lawrence Manor, Lawrence Heights</td>\n",
       "      <td>43.718518</td>\n",
       "      <td>-79.464763</td>\n",
       "    </tr>\n",
       "    <tr>\n",
       "      <th>4</th>\n",
       "      <td>M7A</td>\n",
       "      <td>Downtown Toronto</td>\n",
       "      <td>Queen's Park, Ontario Provincial Government</td>\n",
       "      <td>43.662301</td>\n",
       "      <td>-79.389494</td>\n",
       "    </tr>\n",
       "  </tbody>\n",
       "</table>\n",
       "</div>"
      ],
      "text/plain": [
       "  Postal Code           Borough                                 Neighborhood  \\\n",
       "0         M3A        North York                                    Parkwoods   \n",
       "1         M4A        North York                             Victoria Village   \n",
       "2         M5A  Downtown Toronto                    Regent Park, Harbourfront   \n",
       "3         M6A        North York             Lawrence Manor, Lawrence Heights   \n",
       "4         M7A  Downtown Toronto  Queen's Park, Ontario Provincial Government   \n",
       "\n",
       "    Latitude  Longitude  \n",
       "0  43.753259 -79.329656  \n",
       "1  43.725882 -79.315572  \n",
       "2  43.654260 -79.360636  \n",
       "3  43.718518 -79.464763  \n",
       "4  43.662301 -79.389494  "
      ]
     },
     "execution_count": 17,
     "metadata": {},
     "output_type": "execute_result"
    }
   ],
   "source": [
    "df_neighborhood = pd.merge(df, df_zipcode, on = 'Postal Code')\n",
    "df_neighborhood.head()"
   ]
  },
  {
   "cell_type": "markdown",
   "metadata": {},
   "source": [
    "#### Use FourSquare to explore the Downtown Toronto (Postal Code: M5A)"
   ]
  },
  {
   "cell_type": "code",
   "execution_count": 18,
   "metadata": {},
   "outputs": [
    {
     "name": "stdout",
     "output_type": "stream",
     "text": [
      "Your credentails:\n",
      "CLIENT_ID: YMX5TBXNFF0OEYWZ1ASKBOZTGOAMBZYB4Y34NZBWB30GZA34\n",
      "CLIENT_SECRET:EJDSGO1E1OSRZN3Y4ITYZRIP4A1TTC4DNONDGHF4RCFMQ2H4\n"
     ]
    }
   ],
   "source": [
    "CLIENT_ID = 'YMX5TBXNFF0OEYWZ1ASKBOZTGOAMBZYB4Y34NZBWB30GZA34' # your Foursquare ID\n",
    "CLIENT_SECRET = 'EJDSGO1E1OSRZN3Y4ITYZRIP4A1TTC4DNONDGHF4RCFMQ2H4' # your Foursquare Secret\n",
    "VERSION = '20200603'\n",
    "print('Your credentails:')\n",
    "print('CLIENT_ID: ' + CLIENT_ID)\n",
    "print('CLIENT_SECRET:' + CLIENT_SECRET)"
   ]
  },
  {
   "cell_type": "markdown",
   "metadata": {},
   "source": [
    "##### Exploring restaurants"
   ]
  },
  {
   "cell_type": "code",
   "execution_count": 19,
   "metadata": {},
   "outputs": [],
   "source": [
    "limit = 25\n",
    "radius = 20000\n",
    "search_query = 'restaurant'"
   ]
  },
  {
   "cell_type": "code",
   "execution_count": 20,
   "metadata": {},
   "outputs": [
    {
     "data": {
      "text/html": [
       "<div>\n",
       "<style scoped>\n",
       "    .dataframe tbody tr th:only-of-type {\n",
       "        vertical-align: middle;\n",
       "    }\n",
       "\n",
       "    .dataframe tbody tr th {\n",
       "        vertical-align: top;\n",
       "    }\n",
       "\n",
       "    .dataframe thead th {\n",
       "        text-align: right;\n",
       "    }\n",
       "</style>\n",
       "<table border=\"1\" class=\"dataframe\">\n",
       "  <thead>\n",
       "    <tr style=\"text-align: right;\">\n",
       "      <th></th>\n",
       "      <th>id</th>\n",
       "      <th>name</th>\n",
       "      <th>location.lat</th>\n",
       "      <th>location.lng</th>\n",
       "      <th>location.distance</th>\n",
       "    </tr>\n",
       "  </thead>\n",
       "  <tbody>\n",
       "    <tr>\n",
       "      <th>0</th>\n",
       "      <td>4ad4c05cf964a52006f620e3</td>\n",
       "      <td>Victoria's Restaurant</td>\n",
       "      <td>43.649298</td>\n",
       "      <td>-79.376431</td>\n",
       "      <td>1386</td>\n",
       "    </tr>\n",
       "    <tr>\n",
       "      <th>1</th>\n",
       "      <td>5d3127c715cfea0007e44d52</td>\n",
       "      <td>est Restaurant</td>\n",
       "      <td>43.658911</td>\n",
       "      <td>-79.349035</td>\n",
       "      <td>1068</td>\n",
       "    </tr>\n",
       "    <tr>\n",
       "      <th>2</th>\n",
       "      <td>4ada5d5bf964a520e92121e3</td>\n",
       "      <td>The Hot House Restaurant &amp; Bar</td>\n",
       "      <td>43.648824</td>\n",
       "      <td>-79.373702</td>\n",
       "      <td>1213</td>\n",
       "    </tr>\n",
       "    <tr>\n",
       "      <th>3</th>\n",
       "      <td>4ae77362f964a52069ab21e3</td>\n",
       "      <td>Mi Mi Restaurant</td>\n",
       "      <td>43.666293</td>\n",
       "      <td>-79.349079</td>\n",
       "      <td>1631</td>\n",
       "    </tr>\n",
       "    <tr>\n",
       "      <th>4</th>\n",
       "      <td>4ad4c05cf964a520e1f520e3</td>\n",
       "      <td>Docks Restaurant &amp; Night Club The</td>\n",
       "      <td>43.641806</td>\n",
       "      <td>-79.354171</td>\n",
       "      <td>1480</td>\n",
       "    </tr>\n",
       "    <tr>\n",
       "      <th>5</th>\n",
       "      <td>4ad4c05ff964a52048f720e3</td>\n",
       "      <td>Hemispheres Restaurant &amp; Bistro</td>\n",
       "      <td>43.654884</td>\n",
       "      <td>-79.385931</td>\n",
       "      <td>2038</td>\n",
       "    </tr>\n",
       "    <tr>\n",
       "      <th>6</th>\n",
       "      <td>4ad4c05ff964a52018f720e3</td>\n",
       "      <td>Cottage Restaurant &amp; Lounge</td>\n",
       "      <td>43.662770</td>\n",
       "      <td>-79.376894</td>\n",
       "      <td>1616</td>\n",
       "    </tr>\n",
       "    <tr>\n",
       "      <th>7</th>\n",
       "      <td>4b7b268cf964a52061542fe3</td>\n",
       "      <td>Tender Trap Restaurant</td>\n",
       "      <td>43.667724</td>\n",
       "      <td>-79.369485</td>\n",
       "      <td>1659</td>\n",
       "    </tr>\n",
       "    <tr>\n",
       "      <th>8</th>\n",
       "      <td>4bd47e6fcfa7b7139f2924da</td>\n",
       "      <td>Studio Restaurant</td>\n",
       "      <td>43.661500</td>\n",
       "      <td>-79.379319</td>\n",
       "      <td>1706</td>\n",
       "    </tr>\n",
       "    <tr>\n",
       "      <th>9</th>\n",
       "      <td>4ad4c060f964a5207bf720e3</td>\n",
       "      <td>Gio Rana's Really Really Nice Restaurant</td>\n",
       "      <td>43.663367</td>\n",
       "      <td>-79.330425</td>\n",
       "      <td>2635</td>\n",
       "    </tr>\n",
       "  </tbody>\n",
       "</table>\n",
       "</div>"
      ],
      "text/plain": [
       "                         id                                      name  \\\n",
       "0  4ad4c05cf964a52006f620e3                     Victoria's Restaurant   \n",
       "1  5d3127c715cfea0007e44d52                            est Restaurant   \n",
       "2  4ada5d5bf964a520e92121e3            The Hot House Restaurant & Bar   \n",
       "3  4ae77362f964a52069ab21e3                          Mi Mi Restaurant   \n",
       "4  4ad4c05cf964a520e1f520e3         Docks Restaurant & Night Club The   \n",
       "5  4ad4c05ff964a52048f720e3           Hemispheres Restaurant & Bistro   \n",
       "6  4ad4c05ff964a52018f720e3               Cottage Restaurant & Lounge   \n",
       "7  4b7b268cf964a52061542fe3                    Tender Trap Restaurant   \n",
       "8  4bd47e6fcfa7b7139f2924da                         Studio Restaurant   \n",
       "9  4ad4c060f964a5207bf720e3  Gio Rana's Really Really Nice Restaurant   \n",
       "\n",
       "   location.lat  location.lng  location.distance  \n",
       "0     43.649298    -79.376431               1386  \n",
       "1     43.658911    -79.349035               1068  \n",
       "2     43.648824    -79.373702               1213  \n",
       "3     43.666293    -79.349079               1631  \n",
       "4     43.641806    -79.354171               1480  \n",
       "5     43.654884    -79.385931               2038  \n",
       "6     43.662770    -79.376894               1616  \n",
       "7     43.667724    -79.369485               1659  \n",
       "8     43.661500    -79.379319               1706  \n",
       "9     43.663367    -79.330425               2635  "
      ]
     },
     "execution_count": 20,
     "metadata": {},
     "output_type": "execute_result"
    }
   ],
   "source": [
    "url_restaurants = 'https://api.foursquare.com/v2/venues/search?client_id={}&client_secret={}&ll={},{}&v={}&query={}&radius={}&limit={}'.format(CLIENT_ID, CLIENT_SECRET, 43.654260, -79.360636, VERSION, search_query, radius, limit)\n",
    "eat_tor = requests.get(url_restaurants).json()\n",
    "eat_toronto = eat_tor['response']['venues']\n",
    "Toronto_eats_df = pd.json_normalize(eat_toronto)\n",
    "Toronto_eats = Toronto_eats_df[['id','name','location.lat','location.lng','location.distance']]\n",
    "Toronto_eats.head(10)"
   ]
  },
  {
   "cell_type": "markdown",
   "metadata": {},
   "source": [
    "##### Exploring shopping centers"
   ]
  },
  {
   "cell_type": "code",
   "execution_count": 21,
   "metadata": {},
   "outputs": [],
   "source": [
    "search_query1 = 'shopping centre'"
   ]
  },
  {
   "cell_type": "code",
   "execution_count": 22,
   "metadata": {},
   "outputs": [
    {
     "data": {
      "text/html": [
       "<div>\n",
       "<style scoped>\n",
       "    .dataframe tbody tr th:only-of-type {\n",
       "        vertical-align: middle;\n",
       "    }\n",
       "\n",
       "    .dataframe tbody tr th {\n",
       "        vertical-align: top;\n",
       "    }\n",
       "\n",
       "    .dataframe thead th {\n",
       "        text-align: right;\n",
       "    }\n",
       "</style>\n",
       "<table border=\"1\" class=\"dataframe\">\n",
       "  <thead>\n",
       "    <tr style=\"text-align: right;\">\n",
       "      <th></th>\n",
       "      <th>id</th>\n",
       "      <th>name</th>\n",
       "      <th>location.lat</th>\n",
       "      <th>location.lng</th>\n",
       "      <th>location.distance</th>\n",
       "    </tr>\n",
       "  </thead>\n",
       "  <tbody>\n",
       "    <tr>\n",
       "      <th>0</th>\n",
       "      <td>5044fe32e4b0c55b95cc2efd</td>\n",
       "      <td>York Mills Shopping Centre</td>\n",
       "      <td>43.747731</td>\n",
       "      <td>-79.384724</td>\n",
       "      <td>10584</td>\n",
       "    </tr>\n",
       "    <tr>\n",
       "      <th>1</th>\n",
       "      <td>4b71aa4bf964a520a4542de3</td>\n",
       "      <td>Chartwell Shopping Centre 集友商場</td>\n",
       "      <td>43.797768</td>\n",
       "      <td>-79.270853</td>\n",
       "      <td>17532</td>\n",
       "    </tr>\n",
       "    <tr>\n",
       "      <th>2</th>\n",
       "      <td>4f788be0e4b01af713f49d94</td>\n",
       "      <td>SkyCity Shopping Centre</td>\n",
       "      <td>43.804770</td>\n",
       "      <td>-79.288545</td>\n",
       "      <td>17729</td>\n",
       "    </tr>\n",
       "    <tr>\n",
       "      <th>3</th>\n",
       "      <td>4ef1f20d61af815c7919a64a</td>\n",
       "      <td>Upper Oakville Shopping Centre Head Office</td>\n",
       "      <td>43.654294</td>\n",
       "      <td>-79.340546</td>\n",
       "      <td>1618</td>\n",
       "    </tr>\n",
       "    <tr>\n",
       "      <th>4</th>\n",
       "      <td>4de175d9fa7651589ee7a14f</td>\n",
       "      <td>Milliken Wells Shopping Centre 愛登商場</td>\n",
       "      <td>43.825518</td>\n",
       "      <td>-79.276936</td>\n",
       "      <td>20217</td>\n",
       "    </tr>\n",
       "    <tr>\n",
       "      <th>5</th>\n",
       "      <td>4ad4c062f964a52002f820e3</td>\n",
       "      <td>Yorkdale Shopping Centre</td>\n",
       "      <td>43.725482</td>\n",
       "      <td>-79.452736</td>\n",
       "      <td>10854</td>\n",
       "    </tr>\n",
       "    <tr>\n",
       "      <th>6</th>\n",
       "      <td>5c55cbe28194fc002cc3f1fd</td>\n",
       "      <td>Riverdale Shopping Centre</td>\n",
       "      <td>43.668694</td>\n",
       "      <td>-79.342070</td>\n",
       "      <td>2194</td>\n",
       "    </tr>\n",
       "    <tr>\n",
       "      <th>7</th>\n",
       "      <td>4b157c6bf964a52091ad23e3</td>\n",
       "      <td>Galleria Shopping Centre</td>\n",
       "      <td>43.667592</td>\n",
       "      <td>-79.442053</td>\n",
       "      <td>6722</td>\n",
       "    </tr>\n",
       "    <tr>\n",
       "      <th>8</th>\n",
       "      <td>4adc8d0df964a520222d21e3</td>\n",
       "      <td>Square One Shopping Centre</td>\n",
       "      <td>43.593169</td>\n",
       "      <td>-79.644493</td>\n",
       "      <td>23863</td>\n",
       "    </tr>\n",
       "    <tr>\n",
       "      <th>9</th>\n",
       "      <td>4f1814f1e4b0259ede704386</td>\n",
       "      <td>Sancardia Shopping Centre</td>\n",
       "      <td>43.678378</td>\n",
       "      <td>-79.358412</td>\n",
       "      <td>2690</td>\n",
       "    </tr>\n",
       "  </tbody>\n",
       "</table>\n",
       "</div>"
      ],
      "text/plain": [
       "                         id                                        name  \\\n",
       "0  5044fe32e4b0c55b95cc2efd                  York Mills Shopping Centre   \n",
       "1  4b71aa4bf964a520a4542de3              Chartwell Shopping Centre 集友商場   \n",
       "2  4f788be0e4b01af713f49d94                     SkyCity Shopping Centre   \n",
       "3  4ef1f20d61af815c7919a64a  Upper Oakville Shopping Centre Head Office   \n",
       "4  4de175d9fa7651589ee7a14f         Milliken Wells Shopping Centre 愛登商場   \n",
       "5  4ad4c062f964a52002f820e3                    Yorkdale Shopping Centre   \n",
       "6  5c55cbe28194fc002cc3f1fd                   Riverdale Shopping Centre   \n",
       "7  4b157c6bf964a52091ad23e3                    Galleria Shopping Centre   \n",
       "8  4adc8d0df964a520222d21e3                  Square One Shopping Centre   \n",
       "9  4f1814f1e4b0259ede704386                   Sancardia Shopping Centre   \n",
       "\n",
       "   location.lat  location.lng  location.distance  \n",
       "0     43.747731    -79.384724              10584  \n",
       "1     43.797768    -79.270853              17532  \n",
       "2     43.804770    -79.288545              17729  \n",
       "3     43.654294    -79.340546               1618  \n",
       "4     43.825518    -79.276936              20217  \n",
       "5     43.725482    -79.452736              10854  \n",
       "6     43.668694    -79.342070               2194  \n",
       "7     43.667592    -79.442053               6722  \n",
       "8     43.593169    -79.644493              23863  \n",
       "9     43.678378    -79.358412               2690  "
      ]
     },
     "execution_count": 22,
     "metadata": {},
     "output_type": "execute_result"
    }
   ],
   "source": [
    "url_shops = 'https://api.foursquare.com/v2/venues/search?client_id={}&client_secret={}&ll={},{}&v={}&query={}&radius={}&limit={}'.format(CLIENT_ID, CLIENT_SECRET, 43.654260, -79.360636, VERSION, search_query1, radius, limit)\n",
    "shops_tor = requests.get(url_shops).json()\n",
    "shop_toronto = shops_tor['response']['venues']\n",
    "Toronto_shops_df = pd.json_normalize(shop_toronto)\n",
    "Toronto_shops = Toronto_shops_df[['id','name','location.lat','location.lng','location.distance']]\n",
    "Toronto_shops.head(10)"
   ]
  },
  {
   "cell_type": "markdown",
   "metadata": {},
   "source": [
    "#### Using Folium to show the restaurants and shopping centers in the neighborhood"
   ]
  },
  {
   "cell_type": "code",
   "execution_count": 25,
   "metadata": {},
   "outputs": [
    {
     "data": {
      "text/html": [
       "<div style=\"width:100%;\"><div style=\"position:relative;width:100%;height:0;padding-bottom:60%;\"><span style=\"color:#565656\">Make this Notebook Trusted to load map: File -> Trust Notebook</span><iframe src=\"about:blank\" style=\"position:absolute;width:100%;height:100%;left:0;top:0;border:none !important;\" data-html=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 onload=\"this.contentDocument.open();this.contentDocument.write(atob(this.getAttribute('data-html')));this.contentDocument.close();\" allowfullscreen webkitallowfullscreen mozallowfullscreen></iframe></div></div>"
      ],
      "text/plain": [
       "<folium.folium.Map at 0x236a51a4ac8>"
      ]
     },
     "execution_count": 25,
     "metadata": {},
     "output_type": "execute_result"
    }
   ],
   "source": [
    "import folium\n",
    "map_Toronto = folium.Map(location=[43.654260, -79.360636], zoom_start=10)\n",
    "\n",
    "for lat, lng, name in zip(Toronto_eats['location.lat'],Toronto_eats['location.lng'],Toronto_eats['name']):\n",
    "    label = '{}'.format(name)\n",
    "    label = folium.Popup(label, parse_html=True)\n",
    "    folium.Marker(\n",
    "        [lat, lng],\n",
    "        popup=label,\n",
    "        ).add_to(map_Toronto)  \n",
    "        \n",
    "for lat, lng, name in zip(Toronto_shops['location.lat'],Toronto_shops['location.lng'],Toronto_shops['name']):\n",
    "    label = '{}'.format(name)\n",
    "    label = folium.Popup(label, parse_html=True)\n",
    "    folium.CircleMarker(\n",
    "        [lat, lng],\n",
    "        radius=5,\n",
    "        popup=label,\n",
    "        color='blue',\n",
    "        fill=True,\n",
    "        fill_color='#3186cc',\n",
    "        fill_opacity=0.7).add_to(map_Toronto)  \n",
    "\n",
    "    \n",
    "map_Toronto\n"
   ]
  }
 ],
 "metadata": {
  "kernelspec": {
   "display_name": "Python 3",
   "language": "python",
   "name": "python3"
  },
  "language_info": {
   "codemirror_mode": {
    "name": "ipython",
    "version": 3
   },
   "file_extension": ".py",
   "mimetype": "text/x-python",
   "name": "python",
   "nbconvert_exporter": "python",
   "pygments_lexer": "ipython3",
   "version": "3.7.6"
  }
 },
 "nbformat": 4,
 "nbformat_minor": 4
}
